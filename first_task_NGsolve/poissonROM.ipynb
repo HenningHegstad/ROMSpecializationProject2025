{
 "cells": [
  {
   "cell_type": "code",
   "execution_count": 1,
   "id": "d4a47661",
   "metadata": {},
   "outputs": [],
   "source": [
    "import numpy as np\n",
    "from ngsolve import *\n",
    "from netgen.geom2d import unit_square\n",
    "\n",
    "from pymor.algorithms.pod import pod\n",
    "from pymor.vectorarrays.numpy import NumpyVectorSpace\n",
    "import matplotlib.pyplot as plt"
   ]
  },
  {
   "cell_type": "code",
   "execution_count": 2,
   "id": "15e3d97f",
   "metadata": {},
   "outputs": [],
   "source": [
    "mesh = Mesh(unit_square.GenerateMesh(maxh=0.1))\n",
    "V = H1(mesh, order=3, dirichlet=\"left|bottom|top\")\n",
    "u, v = V.TnT()\n",
    "\n",
    "f = LinearForm(V)\n",
    "f += 32 * (y * (1 - y) + x * (1 - x)) * v * dx\n",
    "f.Assemble()\n",
    "f_vec = np.array(f.vec)\n",
    "\n",
    "g = LinearForm(V)\n",
    "g += 1 * v * ds(\"right\")\n",
    "g.Assemble()\n",
    "g_vec = np.array(g.vec)\n",
    "\n",
    "# --- Reference bilinear forms for each κ entry ---\n",
    "a11 = BilinearForm(V, symmetric=True)\n",
    "a11 += grad(u)[0] * grad(v)[0] * dx\n",
    "a11.Assemble()\n",
    "\n",
    "a12 = BilinearForm(V, symmetric=False)\n",
    "a12 += grad(u)[1] * grad(v)[0] * dx\n",
    "a12.Assemble()\n",
    "\n",
    "a22 = BilinearForm(V, symmetric=True)\n",
    "a22 += grad(u)[1] * grad(v)[1] * dx\n",
    "a22.Assemble()\n",
    "\n",
    "# Reference linear form\n",
    "f_neumann = LinearForm(V)\n",
    "f_neumann += 1 * v * ds(\"right\")\n",
    "f_neumann.Assemble()\n",
    "\n",
    "# Full-order solve for given κ\n",
    "def solve_full(kappa: np.ndarray, mu_2: float = 2.0) -> np.ndarray:\n",
    "    \"\"\"kappa: 2x2 array-like of floats.\"\"\"\n",
    "    a_mu = BilinearForm(V, symmetric=True)\n",
    "    a_mu += kappa[0] * grad(u)[0] * grad(v)[0] * dx\n",
    "    a_mu += kappa[1] * grad(u)[1] * grad(v)[0] * dx\n",
    "    a_mu += kappa[1] * grad(u)[0] * grad(v)[1] * dx\n",
    "    a_mu += kappa[2] * grad(u)[1] * grad(v)[1] * dx\n",
    "    a_mu.Assemble()\n",
    "    \n",
    "    f_mu = LinearForm(V)\n",
    "    f_mu += mu_2 * v * ds(\"right\")\n",
    "    f_mu += 32 * (y * (1 - y) + x * (1 - x)) * v * dx\n",
    "    f_mu.Assemble()\n",
    "    \n",
    "    gfu = GridFunction(V)\n",
    "    gfu.vec.data = a_mu.mat.Inverse(V.FreeDofs()) * f_mu.vec\n",
    "    return np.array(gfu.vec)  # shape (ndofs,)\n"
   ]
  },
  {
   "cell_type": "code",
   "execution_count": 3,
   "id": "30d9c3ef",
   "metadata": {},
   "outputs": [
    {
     "data": {
      "application/vnd.jupyter.widget-view+json": {
       "model_id": "9e2da1ff3ad94e7191ca4accb355773c",
       "version_major": 2,
       "version_minor": 0
      },
      "text/plain": [
       "WebGuiWidget(layout=Layout(height='500px', width='100%'), value={'gui_settings': {}, 'ngsolve_version': '6.2.2…"
      ]
     },
     "metadata": {},
     "output_type": "display_data"
    },
    {
     "data": {
      "text/plain": [
       "BaseWebGuiScene"
      ]
     },
     "execution_count": 3,
     "metadata": {},
     "output_type": "execute_result"
    }
   ],
   "source": [
    "kappa_test = np.array([1,-0.5,2])\n",
    "mu_2_test = 1.0\n",
    "u_fom = solve_full(kappa_test,mu_2=mu_2_test)\n",
    "\n",
    "from ngsolve.webgui import Draw\n",
    "gfu_fom = GridFunction(V); gfu_fom.vec[:] = u_fom\n",
    "Draw(gfu_fom, mesh, \"FOM\")\n",
    "\n",
    "# VTKOutput(ma=mesh, coefs=[gfu_fom], names=[\"u\"], filename=\"poisson\", subdivision=0).Do()"
   ]
  },
  {
   "cell_type": "code",
   "execution_count": 4,
   "id": "e0993ffb",
   "metadata": {},
   "outputs": [
    {
     "name": "stdout",
     "output_type": "stream",
     "text": [
      "ndofs=1096, nsnapshots=100\n"
     ]
    }
   ],
   "source": [
    "# snapshot generation for multiple κ samples\n",
    "ntrain = 100\n",
    "\n",
    "# --- κ sampler: symmetric positive-definite, bounded anisotropy ---\n",
    "def sample_anisotropic_spd(k_min=0.01, k_max=20, max_anisotropy=20.0):\n",
    "    lam1 = np.random.uniform(k_min, k_max)\n",
    "    r = np.random.uniform(1.0, max_anisotropy)\n",
    "    lam2 = np.clip(lam1 * r if np.random.rand() < 0.5 else lam1 / r, k_min, k_max)\n",
    "    theta = np.random.uniform(0, 2*np.pi)\n",
    "    c, s = np.cos(theta), np.sin(theta)\n",
    "    R = np.array([[c, -s], [s, c]])\n",
    "    kappa = R @ np.diag([lam1, lam2]) @ R.T\n",
    "    return np.array([kappa[0,0],kappa[1,0],kappa[1,1]])\n",
    "\n",
    "kappas = []\n",
    "snapshots = []\n",
    "\n",
    "for i in range(ntrain):\n",
    "    kappa = sample_anisotropic_spd(k_min=0.01, k_max=20.0, max_anisotropy=20.0)\n",
    "    kappas.append(kappa)\n",
    "    mu2 = np.random.uniform(-10, 10.0)\n",
    "    snapshots.append(solve_full(kappa=kappa, mu_2=mu2))\n",
    "\n",
    "X = np.column_stack(snapshots)           # (ndofs, nsnap)\n",
    "ndofs, nsnap = X.shape\n",
    "print(f\"ndofs={ndofs}, nsnapshots={nsnap}\")\n"
   ]
  },
  {
   "cell_type": "code",
   "execution_count": 5,
   "id": "9406d45e",
   "metadata": {},
   "outputs": [
    {
     "data": {
      "application/vnd.jupyter.widget-view+json": {
       "model_id": "6b146f8a550a485a9624b6d256bf0adb",
       "version_major": 2,
       "version_minor": 0
      },
      "text/plain": [
       "Accordion(children=(HTML(value='', layout=Layout(height='16em', width='100%')),), titles=('Log Output',))"
      ]
     },
     "metadata": {},
     "output_type": "display_data"
    },
    {
     "name": "stdout",
     "output_type": "stream",
     "text": [
      "Requested modes=100, obtained modes r=51\n"
     ]
    }
   ],
   "source": [
    "# POD basis construction\n",
    "from pymor.operators.numpy import NumpyMatrixOperator\n",
    "max_modes = 100\n",
    "\n",
    "space = NumpyVectorSpace(ndofs)\n",
    "snapshots_va = space.from_numpy(X.T)     # shape (nsnap, ndofs)\n",
    "\n",
    "# Mass matrix\n",
    "m = BilinearForm(V, symmetric=True)\n",
    "m += u*v*dx\n",
    "m.Assemble()\n",
    "\n",
    "# Stiffness matrix\n",
    "s = BilinearForm(V, symmetric=True)\n",
    "s += grad(u)*grad(v)*dx\n",
    "s.Assemble()\n",
    "\n",
    "# H1 inner product\n",
    "H1_mat = np.array(s.mat.ToDense()+m.mat.ToDense())\n",
    "H1_semi_mat = np.array(s.mat.ToDense())\n",
    "product_op = NumpyMatrixOperator(H1_semi_mat)\n",
    "\n",
    "req_modes = min(max_modes, len(snapshots_va))\n",
    "RB_va, svals= pod(snapshots_va, product=product_op,modes=req_modes,rtol=1e-5)\n",
    "# RB_va, svals= pod(snapshots_va,modes=req_modes,atol=1e-8,rtol=1e-8)\n",
    "\n",
    "Vrb = RB_va.to_numpy().T                # columns: POD basis vecs\n",
    "r = Vrb.shape[1]\n",
    "print(f\"Requested modes={req_modes}, obtained modes r={r}\")\n",
    "\n",
    "def apply_Acomp(coeffs: np.ndarray, aform: BilinearForm) -> np.ndarray:\n",
    "    gfu_in = GridFunction(V)\n",
    "    gfu_in.vec[:] = coeffs\n",
    "    vec_out = gfu_in.vec.CreateVector()\n",
    "    vec_out.data = aform.mat * gfu_in.vec\n",
    "    return np.array(vec_out)\n",
    "\n",
    "# Precompute reduced matrices for each κ entry\n",
    "A11r = Vrb.T @ np.column_stack([apply_Acomp(Vrb[:, j], a11) for j in range(r)])\n",
    "A12r = Vrb.T @ np.column_stack([apply_Acomp(Vrb[:, j], a12) for j in range(r)])\n",
    "A22r = Vrb.T @ np.column_stack([apply_Acomp(Vrb[:, j], a22) for j in range(r)])\n",
    "\n",
    "# Reduced RHS\n",
    "fr = Vrb.T @ f_vec\n",
    "gr = Vrb.T @ g_vec"
   ]
  },
  {
   "cell_type": "code",
   "execution_count": 6,
   "id": "4096527f",
   "metadata": {},
   "outputs": [
    {
     "data": {
      "image/png": "[encoded data removed]",
      "text/plain": [
       "<Figure size 600x400 with 1 Axes>"
      ]
     },
     "metadata": {},
     "output_type": "display_data"
    },
    {
     "name": "stdout",
     "output_type": "stream",
     "text": [
      "Sum of square singular values beyond cutoff (51): 3.859e-05\n",
      "S ratio (tail) 6.3057e-10\n",
      "S ratio (first) (51): 1.0000e+00\n"
     ]
    }
   ],
   "source": [
    "svals_full = np.linalg.svd(X, compute_uv=False)\n",
    "\n",
    "# indices\n",
    "k = np.arange(1, len(svals_full)+1)\n",
    "\n",
    "plt.figure(figsize=(6,4))\n",
    "plt.semilogy(k[:r], svals_full[:r], 'o-', color='C0', label=f'kept ({r})')\n",
    "plt.semilogy(k[r:], svals_full[r:], 'o-', color='C1', label='discarded')\n",
    "\n",
    "plt.xlabel(\"Mode index\")\n",
    "plt.ylabel(\"Singular value (log scale)\")\n",
    "plt.title(\"Snapshot singular values (full SVD)\")\n",
    "plt.legend()\n",
    "plt.grid(True, which=\"both\", ls=\"--\", alpha=0.5)\n",
    "plt.tight_layout()\n",
    "plt.show()\n",
    "\n",
    "s_squared = svals_full = np.linalg.svd(X, compute_uv=False)**2\n",
    "tail_sum_s_vals = s_squared[r:].sum()\n",
    "sum_first_r_s_vals = s_squared[:r].sum()\n",
    "\n",
    "error_ratio_first = sum_first_r_s_vals / s_squared.sum()\n",
    "error_ratio_tail = tail_sum_s_vals / s_squared.sum()\n",
    "print(f\"Sum of square singular values beyond cutoff ({r}): {tail_sum_s_vals:.3e}\")\n",
    "print(f\"S ratio (tail) {error_ratio_tail:.4e}\")\n",
    "print(f\"S ratio (first) ({r}): {error_ratio_first:.4e}\")"
   ]
  },
  {
   "cell_type": "code",
   "execution_count": 10,
   "id": "9c727419",
   "metadata": {},
   "outputs": [
    {
     "name": "stdout",
     "output_type": "stream",
     "text": [
      "Relative L2 error: 6.548e-05\n",
      "Relative H1 seminorm error: 4.053e-04\n"
     ]
    }
   ],
   "source": [
    "# Online reduced solve\n",
    "from scipy.linalg import cho_factor, cho_solve\n",
    "def solve_reduced(kappa: np.ndarray, mu_2: float = 2.0) -> np.ndarray:\n",
    "    \"\"\"Solve ROM for 2x2 constant κ tensor.\n",
    "    \n",
    "    First tries Cholesky (fast path for SPD systems).\n",
    "    Falls back to np.linalg.solve if Cholesky fails.\n",
    "    \"\"\"\n",
    "    # Assemble reduced matrix Ar(κ)\n",
    "    Ar = (\n",
    "          kappa[0] * A11r\n",
    "        + kappa[1] * A12r\n",
    "        + kappa[1] * A12r.T\n",
    "        + kappa[2] * A22r\n",
    "    )\n",
    "    RHSr = fr + mu_2 * gr\n",
    "    try:\n",
    "        # Try Cholesky factorisation and solve\n",
    "        c, lower = cho_factor(Ar, check_finite=False)\n",
    "        y = cho_solve((c, lower), RHSr, check_finite=False)\n",
    "    except Exception as e:\n",
    "        # Warn and fall back\n",
    "        print(f\"Warning: Cholesky solve failed ({e}), using np.linalg.solve instead.\")\n",
    "        y = np.linalg.solve(Ar, fr)\n",
    "\n",
    "    # Lift back to full‑order space\n",
    "    return Vrb @ y\n",
    "\n",
    "# First and last component is diagonal, middle is off-diagonal\n",
    "kappa_test = np.array([1,-0.5,2])\n",
    "mu_2_test = 1.0\n",
    "\n",
    "u_rom = solve_reduced(kappa_test,mu_2_test)\n",
    "u_fom = solve_full(kappa_test,mu_2=mu_2_test)\n",
    "\n",
    "gfu_fom = GridFunction(V); gfu_fom.vec[:] = u_fom\n",
    "gfu_rom = GridFunction(V); gfu_rom.vec[:] = u_rom\n",
    "diff = GridFunction(V); diff.vec[:] = u_fom - u_rom\n",
    "# Draw(gfu_rom, mesh, \"ROM\")\n",
    "# Draw(gfu_fom, mesh, \"FOM\")\n",
    "\n",
    "integral = Integrate(diff*diff,mesh)/Integrate(gfu_fom*gfu_fom,mesh)\n",
    "print(f\"Relative L2 error: {integral**0.5:.3e}\")\n",
    "# H1 seminorm error\n",
    "h1_err = np.sqrt(Integrate(grad(diff)*grad(diff), mesh))\n",
    "h1_ref = np.sqrt(Integrate(grad(gfu_fom) * grad(gfu_fom), mesh))\n",
    "h1_rel = h1_err / h1_ref\n",
    "\n",
    "print(f\"Relative H1 seminorm error: {h1_rel:.3e}\")"
   ]
  },
  {
   "cell_type": "code",
   "execution_count": 8,
   "id": "c9e7b880",
   "metadata": {},
   "outputs": [
    {
     "name": "stdout",
     "output_type": "stream",
     "text": [
      "Time for 100 FOM solves: 4.985e-01 seconds\n",
      "Time for 100 ROM solves: 7.001e-03 seconds\n",
      "ROM is 71.20x faster than FOM\n",
      "Mean relative L2 error over 100 tests: 1.991e-04\n",
      "Max  relative L2 error over 100 tests: 2.226e-03\n",
      "Mean relative H1 error over 100 tests: 9.990e-04\n",
      "Max  relative H1 error over 100 tests: 1.281e-02\n"
     ]
    }
   ],
   "source": [
    "import time\n",
    "\n",
    "# number of tests\n",
    "n_tests = 100\n",
    "\n",
    "# store (kappa, u_fom) for later ROM and error calculation\n",
    "fom_data = []\n",
    "\n",
    "# --- FOM timing ---\n",
    "start = time.time()\n",
    "for i in range(n_tests):\n",
    "    # kappa = sample_anisotropic_spd(k_min=0.1, k_max=20.0, max_anisotropy=20.0)\n",
    "    kappa = kappas[i]\n",
    "    mu_2 = np.random.uniform(-10, 10.0)\n",
    "    u_fom = solve_full(kappa, mu_2=mu_2)\n",
    "    fom_data.append((kappa, mu_2, u_fom))\n",
    "end = time.time()\n",
    "time_fom = end - start\n",
    "print(f\"Time for {n_tests} FOM solves: {time_fom:.3e} seconds\")\n",
    "\n",
    "# --- ROM timing ---\n",
    "rom_solutions = []\n",
    "start = time.time()\n",
    "for kappa_rand, mu_2, u_fom in fom_data:\n",
    "    u_rom = solve_reduced(kappa_rand, mu_2=mu_2)\n",
    "    rom_solutions.append(u_rom)\n",
    "end = time.time()\n",
    "time_rom = end-start\n",
    "print(f\"Time for {n_tests} ROM solves: {time_rom:.3e} seconds\")\n",
    "print(f\"ROM is {time_fom/time_rom:.2f}x faster than FOM\")\n",
    "l2_errors = []\n",
    "h1_errors = []\n",
    "\n",
    "for (_, _, u_fom), u_rom in zip(fom_data, rom_solutions):\n",
    "    gfu_fom = GridFunction(V); gfu_fom.vec[:] = u_fom\n",
    "    gfu_rom = GridFunction(V); gfu_rom.vec[:] = u_rom\n",
    "    diff = GridFunction(V); diff.vec.data = gfu_fom.vec - gfu_rom.vec\n",
    "\n",
    "    # --- L2 relative error ---\n",
    "    l2_err = sqrt(Integrate(diff*diff, mesh))\n",
    "    l2_ref = sqrt(Integrate(gfu_fom*gfu_fom, mesh))\n",
    "    l2_errors.append(l2_err / l2_ref)\n",
    "\n",
    "    # --- H1 seminorm relative error ---\n",
    "    h1_err = sqrt(Integrate(diff.Deriv()*diff.Deriv(), mesh))\n",
    "    h1_ref = sqrt(Integrate(gfu_fom.Deriv()*gfu_fom.Deriv(), mesh))\n",
    "    h1_errors.append(h1_err / h1_ref)\n",
    "\n",
    "\n",
    "print(f\"Mean relative L2 error over {n_tests} tests: {np.mean(l2_errors):.3e}\")\n",
    "print(f\"Max  relative L2 error over {n_tests} tests: {np.max(l2_errors):.3e}\")\n",
    "\n",
    "print(f\"Mean relative H1 error over {n_tests} tests: {np.mean(h1_errors):.3e}\")\n",
    "print(f\"Max  relative H1 error over {n_tests} tests: {np.max(h1_errors):.3e}\")\n"
   ]
  }
 ],
 "metadata": {
  "kernelspec": {
   "display_name": ".venv",
   "language": "python",
   "name": "python3"
  },
  "language_info": {
   "codemirror_mode": {
    "name": "ipython",
    "version": 3
   },
   "file_extension": ".py",
   "mimetype": "text/x-python",
   "name": "python",
   "nbconvert_exporter": "python",
   "pygments_lexer": "ipython3",
   "version": "3.12.6"
  }
 },
 "nbformat": 4,
 "nbformat_minor": 5
}
