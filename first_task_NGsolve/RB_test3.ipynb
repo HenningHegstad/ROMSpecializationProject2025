{
 "cells": [
  {
   "cell_type": "code",
   "execution_count": 73,
   "id": "d4a47661",
   "metadata": {},
   "outputs": [],
   "source": [
    "# ===== Reduced Order Modeling with NGSolve + pyMOR (POD-Galerkin) =====\n",
    "import numpy as np\n",
    "from ngsolve import *\n",
    "from netgen.geom2d import unit_square\n",
    "\n",
    "from pymor.algorithms.pod import pod\n",
    "from pymor.vectorarrays.numpy import NumpyVectorSpace\n",
    "import matplotlib.pyplot as plt\n"
   ]
  },
  {
   "cell_type": "code",
   "execution_count": 82,
   "id": "15e3d97f",
   "metadata": {},
   "outputs": [],
   "source": [
    "# ==========================================================\n",
    "# 1) High-fidelity model (FOM) with parametric 2x2 κ-matrix\n",
    "# ==========================================================\n",
    "mesh = Mesh(unit_square.GenerateMesh(maxh=0.11))\n",
    "V = H1(mesh, order=3, dirichlet=\"left|right|bottom|top\")\n",
    "u, v = V.TnT()\n",
    "\n",
    "# --- Parameter-independent right-hand side f ---\n",
    "f = LinearForm(V)\n",
    "f += 32 * (y * (1 - y) + x * (1 - x)) * v * dx\n",
    "f.Assemble()\n",
    "f_vec = np.array(f.vec)\n",
    "\n",
    "# --- Reference bilinear forms for each κ entry ---\n",
    "# κ = [[μ11, μ12],\n",
    "#      [μ21, μ22]]\n",
    "a11 = BilinearForm(V, symmetric=True)\n",
    "a11 += grad(u)[0] * grad(v)[0] * dx\n",
    "a11.Assemble()\n",
    "\n",
    "a12 = BilinearForm(V, symmetric=True)\n",
    "a12 += grad(u)[1] * grad(v)[0] * dx\n",
    "a12.Assemble()\n",
    "\n",
    "a21 = BilinearForm(V, symmetric=True)\n",
    "a21 += grad(u)[0] * grad(v)[1] * dx\n",
    "a21.Assemble()\n",
    "\n",
    "a22 = BilinearForm(V, symmetric=True)\n",
    "a22 += grad(u)[1] * grad(v)[1] * dx\n",
    "a22.Assemble()\n",
    "\n",
    "# --------------------------------\n",
    "# Full-order solve for given κ\n",
    "# --------------------------------\n",
    "def solve_full(kappa: np.ndarray) -> np.ndarray:\n",
    "    \"\"\"kappa: 2x2 array-like of floats.\"\"\"\n",
    "    a_mu = BilinearForm(V, symmetric=True)\n",
    "    a_mu += kappa[0, 0] * grad(u)[0] * grad(v)[0] * dx\n",
    "    a_mu += kappa[0, 1] * grad(u)[1] * grad(v)[0] * dx\n",
    "    a_mu += kappa[1, 0] * grad(u)[0] * grad(v)[1] * dx\n",
    "    a_mu += kappa[1, 1] * grad(u)[1] * grad(v)[1] * dx\n",
    "    a_mu.Assemble()\n",
    "\n",
    "    gfu = GridFunction(V)\n",
    "    gfu.vec.data = a_mu.mat.Inverse(V.FreeDofs()) * f.vec\n",
    "    return np.array(gfu.vec)  # shape (ndofs,)\n",
    "\n",
    "# -----------------------------\n",
    "# Apply component stiffness to coeff vector\n",
    "# -----------------------------\n",
    "def apply_Acomp(coeffs: np.ndarray, aform: BilinearForm) -> np.ndarray:\n",
    "    gfu_in = GridFunction(V)\n",
    "    gfu_in.vec[:] = coeffs\n",
    "    vec_out = gfu_in.vec.CreateVector()\n",
    "    vec_out.data = aform.mat * gfu_in.vec\n",
    "    return np.array(vec_out)\n"
   ]
  },
  {
   "cell_type": "code",
   "execution_count": null,
   "id": "e0993ffb",
   "metadata": {},
   "outputs": [
    {
     "name": "stdout",
     "output_type": "stream",
     "text": [
      "ndofs=919, nsnapshots=2000\n"
     ]
    }
   ],
   "source": [
    "# ==========================================================\n",
    "# 2) Snapshot generation for multiple κ samples\n",
    "# ==========================================================\n",
    "# sample each μ_ij in some range, independently\n",
    "ntrain = 2000\n",
    "rng = np.random.default_rng(2)\n",
    "mus_train = rng.uniform(0.1, 5.0, size=(ntrain, 4))  # 4 components of κ\n",
    "\n",
    "snapshots = []\n",
    "for params in mus_train:\n",
    "    kappa = np.array(params).reshape(2, 2)\n",
    "    snapshots.append(solve_full(kappa))\n",
    "\n",
    "X = np.column_stack(snapshots)           # (ndofs, nsnap)\n",
    "ndofs, nsnap = X.shape\n",
    "print(f\"ndofs={ndofs}, nsnapshots={nsnap}\")\n"
   ]
  },
  {
   "cell_type": "code",
   "execution_count": 105,
   "id": "9406d45e",
   "metadata": {},
   "outputs": [
    {
     "data": {
      "application/vnd.jupyter.widget-view+json": {
       "model_id": "91cc5b4e48434cd4bd7df3d8225a062d",
       "version_major": 2,
       "version_minor": 0
      },
      "text/plain": [
       "Accordion(children=(HTML(value='', layout=Layout(height='16em', width='100%')),), titles=('Log Output',))"
      ]
     },
     "metadata": {},
     "output_type": "display_data"
    },
    {
     "data": {
      "image/png": "[encoded data removed]",
      "text/plain": [
       "<Figure size 640x480 with 1 Axes>"
      ]
     },
     "metadata": {},
     "output_type": "display_data"
    },
    {
     "name": "stdout",
     "output_type": "stream",
     "text": [
      "Requested modes=1000, obtained modes r=509\n"
     ]
    }
   ],
   "source": [
    "# ==========================================================\n",
    "# 3) POD basis construction\n",
    "# ==========================================================\n",
    "\n",
    "max_modes = 1000\n",
    "\n",
    "space = NumpyVectorSpace(ndofs)\n",
    "snapshots_va = space.from_numpy(X.T)     # shape (nsnap, ndofs)\n",
    "\n",
    "req_modes = min(max_modes, len(snapshots_va))\n",
    "RB_va, svals= pod(snapshots_va, modes=req_modes,rtol=1e-5)\n",
    "\n",
    "plt.loglog(svals, 'o-')\n",
    "plt.title('POD singular values')\n",
    "plt.xlabel('Mode index')\n",
    "plt.ylabel('Singular value')\n",
    "plt.grid()\n",
    "plt.show()\n",
    "\n",
    "Vrb = RB_va.to_numpy().T                # columns: POD basis vecs\n",
    "r = Vrb.shape[1]\n",
    "print(f\"Requested modes={req_modes}, obtained modes r={r}\")\n",
    "\n",
    "if r == 0:\n",
    "    raise RuntimeError(\"POD returned zero modes (rank-deficient snapshots).\")\n",
    "if r == 1:\n",
    "    print(\"Warning: only 1 POD mode found — parameter variation may be too simple.\")\n",
    "\n",
    "# ==========================================================\n",
    "# 4) Reduced operators (offline)\n",
    "# ==========================================================\n",
    "# Precompute reduced matrices for each κ entry\n",
    "A11r = Vrb.T @ np.column_stack([apply_Acomp(Vrb[:, j], a11) for j in range(r)])\n",
    "A12r = Vrb.T @ np.column_stack([apply_Acomp(Vrb[:, j], a12) for j in range(r)])\n",
    "A21r = Vrb.T @ np.column_stack([apply_Acomp(Vrb[:, j], a21) for j in range(r)])\n",
    "A22r = Vrb.T @ np.column_stack([apply_Acomp(Vrb[:, j], a22) for j in range(r)])\n",
    "\n",
    "# Reduced RHS\n",
    "fr = Vrb.T @ f_vec\n"
   ]
  },
  {
   "cell_type": "code",
   "execution_count": 111,
   "id": "9c727419",
   "metadata": {},
   "outputs": [
    {
     "name": "stdout",
     "output_type": "stream",
     "text": [
      "Relative error for kappa=[[4.0, 1.0], [1.0, 4.0]]: 6.235e-02\n"
     ]
    },
    {
     "data": {
      "application/vnd.jupyter.widget-view+json": {
       "model_id": "d51f98ba0fc74ff2aca3b9040accdae8",
       "version_major": 2,
       "version_minor": 0
      },
      "text/plain": [
       "WebGuiWidget(layout=Layout(height='500px', width='100%'), value={'gui_settings': {}, 'ngsolve_version': '6.2.2…"
      ]
     },
     "metadata": {},
     "output_type": "display_data"
    },
    {
     "data": {
      "application/vnd.jupyter.widget-view+json": {
       "model_id": "47ea03d7ad9845fca6ddbc9eb3224a06",
       "version_major": 2,
       "version_minor": 0
      },
      "text/plain": [
       "WebGuiWidget(layout=Layout(height='500px', width='100%'), value={'gui_settings': {}, 'ngsolve_version': '6.2.2…"
      ]
     },
     "metadata": {},
     "output_type": "display_data"
    }
   ],
   "source": [
    "# ==========================================================\n",
    "# 5) Online reduced solve\n",
    "# ==========================================================\n",
    "def solve_reduced(kappa: np.ndarray) -> np.ndarray:\n",
    "    \"\"\"Solve ROM for 2x2 constant κ tensor.\"\"\"\n",
    "    Ar = (\n",
    "        kappa[0, 0] * A11r\n",
    "        + kappa[0, 1] * A12r\n",
    "        + kappa[1, 0] * A21r\n",
    "        + kappa[1, 1] * A22r\n",
    "    )\n",
    "    y = np.linalg.solve(Ar, fr)\n",
    "    return Vrb @ y\n",
    "\n",
    "# ==========================================================\n",
    "# 6) Test on unseen κ\n",
    "# ==========================================================\n",
    "kappa_test = np.array([[4., 1.0],\n",
    "                       [1.0, 4.0]])\n",
    "u_rom = solve_reduced(kappa_test)\n",
    "u_fom = solve_full(kappa_test)\n",
    "rel_err = np.linalg.norm(u_fom - u_rom) / np.linalg.norm(u_fom)\n",
    "print(f\"Relative error for kappa={kappa_test.tolist()}: {rel_err:.3e}\")\n",
    "\n",
    "# ==========================================================\n",
    "# 7) Optional visualization\n",
    "# ==========================================================\n",
    "try:\n",
    "    from ngsolve.webgui import Draw\n",
    "    gfu_fom = GridFunction(V); gfu_fom.vec[:] = u_fom\n",
    "    gfu_rom = GridFunction(V); gfu_rom.vec[:] = u_rom\n",
    "    Draw(gfu_rom, mesh, \"ROM\")\n",
    "    Draw(gfu_fom, mesh, \"FOM\")\n",
    "except Exception as ex:\n",
    "    print(\"Visualization skipped:\", ex)\n"
   ]
  }
 ],
 "metadata": {
  "kernelspec": {
   "display_name": ".venv",
   "language": "python",
   "name": "python3"
  },
  "language_info": {
   "codemirror_mode": {
    "name": "ipython",
    "version": 3
   },
   "file_extension": ".py",
   "mimetype": "text/x-python",
   "name": "python",
   "nbconvert_exporter": "python",
   "pygments_lexer": "ipython3",
   "version": "3.12.6"
  }
 },
 "nbformat": 4,
 "nbformat_minor": 5
}
