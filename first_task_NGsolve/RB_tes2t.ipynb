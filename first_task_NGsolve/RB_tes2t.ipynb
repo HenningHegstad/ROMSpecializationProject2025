{
 "cells": [
  {
   "cell_type": "code",
   "execution_count": 42,
   "id": "ccbb599f",
   "metadata": {},
   "outputs": [
    {
     "name": "stdout",
     "output_type": "stream",
     "text": [
      "ndofs=421, nsnapshots=100\n"
     ]
    },
    {
     "data": {
      "application/vnd.jupyter.widget-view+json": {
       "model_id": "2517340215484c5ba59be9d8adaaeaa0",
       "version_major": 2,
       "version_minor": 0
      },
      "text/plain": [
       "Accordion(children=(HTML(value='', layout=Layout(height='16em', width='100%')),), titles=('Log Output',))"
      ]
     },
     "metadata": {},
     "output_type": "display_data"
    },
    {
     "name": "stdout",
     "output_type": "stream",
     "text": [
      "(421, 1)\n",
      "Requested modes=20, obtained modes r=1\n",
      "Warning: only 1 POD mode found. Consider adding more/varied parameters.\n"
     ]
    }
   ],
   "source": [
    "# ===== Reduced Order Modeling with NGSolve + pyMOR (POD-Galerkin) =====\n",
    "import numpy as np\n",
    "from ngsolve import *\n",
    "from netgen.geom2d import unit_square\n",
    "\n",
    "from pymor.algorithms.pod import pod\n",
    "from pymor.vectorarrays.numpy import NumpyVectorSpace\n",
    "\n",
    "# -----------------------------\n",
    "# 1) High-fidelity model (FOM)\n",
    "# -----------------------------\n",
    "mesh = Mesh(unit_square.GenerateMesh(maxh=0.11))\n",
    "V = H1(mesh, order=2, dirichlet=\"left|right|bottom|top\")\n",
    "u, v = V.TnT()\n",
    "\n",
    "# Parameter-independent stiffness (mu = 1)\n",
    "a0 = BilinearForm(V, symmetric=True)\n",
    "a0 += grad(u) * grad(v) * dx\n",
    "a0.Assemble()\n",
    "\n",
    "# Right-hand side: f\n",
    "f = LinearForm(V)\n",
    "f += 32 * (y*(1-y)+x*(1-x)) * v * dx\n",
    "f.Assemble()\n",
    "\n",
    "# Full-order solve for a given mu (robust re-assembly)\n",
    "def solve_full(mu: float) -> np.ndarray:\n",
    "    a_mu = BilinearForm(V, symmetric=True)\n",
    "    a_mu += mu * grad(u) * grad(v) * dx\n",
    "    a_mu.Assemble()\n",
    "    gfu = GridFunction(V)\n",
    "    gfu.vec.data = a_mu.mat.Inverse(V.FreeDofs()) * f.vec\n",
    "    return np.array(gfu.vec)  # 1D numpy array (ndofs,)\n",
    "\n",
    "# Apply K0 to coefficient vector (uses GridFunction vectors to get proper layout)\n",
    "def apply_K0(coeffs: np.ndarray) -> np.ndarray:\n",
    "    gfu_in = GridFunction(V)\n",
    "    gfu_in.vec[:] = coeffs\n",
    "    vec_out = gfu_in.vec.CreateVector()\n",
    "    vec_out.data = a0.mat * gfu_in.vec\n",
    "    return np.array(vec_out)\n",
    "\n",
    "# -----------------------------\n",
    "# 2) Snapshot generation (offline)\n",
    "# -----------------------------\n",
    "mus_train = np.linspace(0.1, 10.0, 100)   # ensure multiple distinct parameters\n",
    "snapshots = [solve_full(mu) for mu in mus_train]\n",
    "X = np.column_stack(snapshots)           # (ndofs, nsnap)\n",
    "ndofs, nsnap = X.shape\n",
    "print(f\"ndofs={ndofs}, nsnapshots={nsnap}\")\n",
    "\n",
    "# pyMOR vector space + snapshot array (nsnap vectors in rows)\n",
    "space = NumpyVectorSpace(ndofs)\n",
    "snapshots_va = space.from_numpy(X.T)     # shape (nsnap, ndofs)\n",
    "# -----------------------------\n",
    "# 3) POD basis construction\n",
    "# -----------------------------\n",
    "# Request up to 20 modes, bounded by number of snapshots\n",
    "req_modes = min(20, len(snapshots_va))\n",
    "# RB_va, svals = pod(snapshots_va, modes=req_modes)\n",
    "RB_va, svals = pod(snapshots_va)\n",
    "\n",
    "# Basis matrix with columns as basis vectors (ndofs, r)\n",
    "Vrb = RB_va.to_numpy().T                # RB_va.to_numpy(): (r, ndofs)\n",
    "r = Vrb.shape[1]\n",
    "print(Vrb.shape)\n",
    "print(f\"Requested modes={req_modes}, obtained modes r={r}\")\n",
    "\n",
    "if r == 0:\n",
    "    raise RuntimeError(\"POD returned zero modes (rank-deficient snapshots). \"\n",
    "                       \"Add more diverse parameters or check the snapshots.\")\n",
    "if r == 1:\n",
    "    print(\"Warning: only 1 POD mode found. Consider adding more/varied parameters.\")\n",
    "\n",
    "# -----------------------------\n",
    "# 4) Reduced operators (offline)\n",
    "# -----------------------------\n",
    "# Compute K0*V once, then Ar0 = V^T (K0 V)\n",
    "KV = np.column_stack([apply_K0(Vrb[:, j]) for j in range(r)])  # (ndofs, r)\n",
    "Ar0 = Vrb.T @ KV                                               # (r, r)\n",
    "\n",
    "# Reduced right-hand side: fr = V^T f\n",
    "f_vec = np.array(f.vec)             # (ndofs,)\n",
    "fr = Vrb.T @ f_vec                  # (r,)\n",
    "\n"
   ]
  },
  {
   "cell_type": "code",
   "execution_count": 51,
   "id": "9c727419",
   "metadata": {},
   "outputs": [
    {
     "name": "stdout",
     "output_type": "stream",
     "text": [
      "[[0.20013679]]\n",
      "Relative error at mu=1.234: 4.882e-15\n"
     ]
    },
    {
     "data": {
      "application/vnd.jupyter.widget-view+json": {
       "model_id": "1bf34953160b474781495b49473aee91",
       "version_major": 2,
       "version_minor": 0
      },
      "text/plain": [
       "WebGuiWidget(layout=Layout(height='500px', width='100%'), value={'gui_settings': {}, 'ngsolve_version': '6.2.2…"
      ]
     },
     "metadata": {},
     "output_type": "display_data"
    },
    {
     "data": {
      "application/vnd.jupyter.widget-view+json": {
       "model_id": "3d5db0298f3c4d19937e6c97e15dfe5f",
       "version_major": 2,
       "version_minor": 0
      },
      "text/plain": [
       "WebGuiWidget(layout=Layout(height='500px', width='100%'), value={'gui_settings': {}, 'ngsolve_version': '6.2.2…"
      ]
     },
     "metadata": {},
     "output_type": "display_data"
    }
   ],
   "source": [
    "# -----------------------------\n",
    "# 5) Online solve (ROM)\n",
    "# -----------------------------\n",
    "def solve_reduced(mu: float) -> np.ndarray:\n",
    "    Ar_mu = mu * Ar0\n",
    "    print(Ar0)\n",
    "    y = np.linalg.solve(Ar_mu, fr)  # (r,)\n",
    "    return Vrb @ y                  # lifted full vector (ndofs,)\n",
    "\n",
    "# Test on an unseen parameter\n",
    "mu_test = 1.234\n",
    "u_rom = solve_reduced(mu_test)\n",
    "u_fom = solve_full(mu_test)\n",
    "rel_err = np.linalg.norm(u_fom - u_rom)/ np.linalg.norm(u_fom)\n",
    "print(f\"Relative error at mu={mu_test:.3f}: {rel_err:.3e}\")\n",
    "\n",
    "# -----------------------------\n",
    "# 6) Optional visualization\n",
    "# -----------------------------\n",
    "try:\n",
    "    from ngsolve.webgui import Draw\n",
    "    gfu_fom = GridFunction(V); gfu_fom.vec[:] = u_fom\n",
    "    gfu_rom = GridFunction(V); gfu_rom.vec[:] = u_rom\n",
    "    Draw(gfu_fom, mesh, \"FOM\")\n",
    "    Draw(gfu_rom, mesh, \"ROM\")\n",
    "except Exception as ex:\n",
    "    print(\"Visualization skipped:\", ex)"
   ]
  }
 ],
 "metadata": {
  "kernelspec": {
   "display_name": ".venv",
   "language": "python",
   "name": "python3"
  },
  "language_info": {
   "codemirror_mode": {
    "name": "ipython",
    "version": 3
   },
   "file_extension": ".py",
   "mimetype": "text/x-python",
   "name": "python",
   "nbconvert_exporter": "python",
   "pygments_lexer": "ipython3",
   "version": "3.12.6"
  }
 },
 "nbformat": 4,
 "nbformat_minor": 5
}
