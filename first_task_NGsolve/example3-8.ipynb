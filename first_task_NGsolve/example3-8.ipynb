{
 "cells": [
  {
   "cell_type": "code",
   "execution_count": 2,
   "id": "31c445f8",
   "metadata": {},
   "outputs": [],
   "source": [
    "# ===== Reduced Order Modeling with NGSolve + pyMOR (POD-Galerkin) =====\n",
    "import numpy as np\n",
    "from ngsolve import *\n",
    "from netgen.geom2d import unit_square\n",
    "\n",
    "from pymor.algorithms.pod import pod\n",
    "from pymor.vectorarrays.numpy import NumpyVectorSpace\n",
    "import matplotlib.pyplot as plt\n"
   ]
  },
  {
   "cell_type": "code",
   "execution_count": 31,
   "id": "9b046adb",
   "metadata": {},
   "outputs": [
    {
     "name": "stdout",
     "output_type": "stream",
     "text": [
      "Mesh elements: 15948\n",
      "Boundary names: ('inlet', 'walls', 'walls', 'walls', 'walls', 'baffle1', 'baffle2', 'baffle2', 'baffle2', 'walls', 'outlet', 'walls', 'baffle3', 'baffle3', 'baffle3', 'walls', 'baffle1', 'baffle1')\n"
     ]
    },
    {
     "data": {
      "application/vnd.jupyter.widget-view+json": {
       "model_id": "41d98f9c1ba942318e3cf9848282ec75",
       "version_major": 2,
       "version_minor": 0
      },
      "text/plain": [
       "WebGuiWidget(layout=Layout(height='500px', width='100%'), value={'gui_settings': {}, 'ngsolve_version': '6.2.2…"
      ]
     },
     "metadata": {},
     "output_type": "display_data"
    },
    {
     "data": {
      "text/plain": [
       "BaseWebGuiScene"
      ]
     },
     "execution_count": 31,
     "metadata": {},
     "output_type": "execute_result"
    }
   ],
   "source": [
    "from netgen.occ import *\n",
    "from ngsolve import Mesh\n",
    "\n",
    "# ---------- Parameters ----------\n",
    "L, W, H = 3.0, 1.0, 1.0\n",
    "baffle_thk = 0.05\n",
    "baffle_len = 0.35*W\n",
    "baffle_x   = [0.7, 1.5, 2.3]\n",
    "half_model = False\n",
    "maxh       = 0.1\n",
    "\n",
    "# ---------- Build main channel ----------\n",
    "p0 = Pnt(0,0,0)\n",
    "p1 = Pnt(L,W,H)\n",
    "channel = Box(p0, p1)\n",
    "channel.faces.name = \"walls\"\n",
    "\n",
    "# Cut by symmetry plane if half_model\n",
    "if half_model:\n",
    "    sym_half = HalfSpace(Pnt(0, W/2, 0), Vec(0,1,0))\n",
    "    channel = channel * sym_half\n",
    "\n",
    "# ---------- Add baffles ----------\n",
    "# First build full channel (no half cut yet)\n",
    "channel = Box(Pnt(0,0,0), Pnt(L,W,H))\n",
    "channel.faces.name = \"walls\"\n",
    "\n",
    "fluid = channel\n",
    "for i, x0 in enumerate(baffle_x, 1):\n",
    "    x0min = x0 - 0.5*baffle_thk\n",
    "    x0max = x0 + 0.5*baffle_thk\n",
    "    zmin, zmax = 0, H\n",
    "\n",
    "    if i == 2:\n",
    "        # Middle baffle from TOP wall\n",
    "        ymin, ymax = W - baffle_len, W\n",
    "    else:\n",
    "        # Side baffles from BOTTOM wall\n",
    "        ymin, ymax = 0, baffle_len\n",
    "\n",
    "    plate = Box(Pnt(x0min, ymin, zmin), Pnt(x0max, ymax, zmax))\n",
    "    plate.faces.name = f\"baffle{i}\"\n",
    "    fluid = fluid - plate\n",
    "\n",
    "# Now apply half-model cut AFTER baffles are created\n",
    "if half_model:\n",
    "    sym_half = HalfSpace(Pnt(0, W/2, 0), Vec(0,1,0))\n",
    "    fluid = fluid * sym_half\n",
    "\n",
    "# ---------- Boundary conditions ----------\n",
    "fluid.faces.Min(X).name = \"inlet\"\n",
    "fluid.faces.Max(X).name = \"outlet\"\n",
    "\n",
    "# ---------- Build OCC geometry and mesh ----------\n",
    "geo = OCCGeometry(fluid)\n",
    "m = geo.GenerateMesh(maxh=maxh)\n",
    "mesh = Mesh(m)\n",
    "\n",
    "print(\"Mesh elements:\", mesh.ne)\n",
    "print(\"Boundary names:\", mesh.GetBoundaries())\n",
    "from ngsolve.webgui import Draw   # for Jupyter/web view\n",
    "# or from ngsolve import Draw     # for the Netgen GUI window\n",
    "\n",
    "Draw(mesh)\n"
   ]
  },
  {
   "cell_type": "code",
   "execution_count": null,
   "id": "d034cbd5",
   "metadata": {},
   "outputs": [],
   "source": []
  }
 ],
 "metadata": {
  "kernelspec": {
   "display_name": ".venv",
   "language": "python",
   "name": "python3"
  },
  "language_info": {
   "codemirror_mode": {
    "name": "ipython",
    "version": 3
   },
   "file_extension": ".py",
   "mimetype": "text/x-python",
   "name": "python",
   "nbconvert_exporter": "python",
   "pygments_lexer": "ipython3",
   "version": "3.12.6"
  }
 },
 "nbformat": 4,
 "nbformat_minor": 5
}
