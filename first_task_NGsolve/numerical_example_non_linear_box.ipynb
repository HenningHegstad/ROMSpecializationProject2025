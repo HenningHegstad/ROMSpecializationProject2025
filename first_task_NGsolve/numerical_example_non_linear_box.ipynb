{
 "cells": [
  {
   "cell_type": "code",
   "execution_count": 4,
   "id": "7cc0c5b2",
   "metadata": {},
   "outputs": [],
   "source": [
    "# ===== Reduced Order Modeling with NGSolve + pyMOR (POD-Galerkin) =====\n",
    "from ngsolve import *\n",
    "from ngsolve import Mesh\n",
    "from ngsolve import x, y, z\n",
    "from ngsolve.webgui import Draw\n",
    "from netgen.geom2d import unit_square\n",
    "from netgen.occ import *\n",
    "\n",
    "from pymor.algorithms.pod import pod\n",
    "from pymor.vectorarrays.numpy import NumpyVectorSpace\n",
    "from collections import Counter\n",
    "\n",
    "import matplotlib.pyplot as plt\n",
    "import numpy as np"
   ]
  },
  {
   "cell_type": "code",
   "execution_count": 5,
   "id": "d452d8b7",
   "metadata": {},
   "outputs": [],
   "source": [
    "mesh = Mesh(unit_square.GenerateMesh(maxh=0.1, quad_dominated=True))\n",
    "order = 2\n",
    "V = H1(mesh,order=order,dirichlet=\"left\")\n",
    "\n",
    "E = 5e6 # Youngs module\n",
    "nu = 0.25 # Poisson ratio\n",
    "CDR = [-0.3,0.3] # Corner displacement range\n",
    "rho = 7850 # Material density\n",
    "lam = E*nu / ((1+nu)*(1-2*nu))\n",
    "G  = E / (2*(1+nu))\n",
    "g = 9.81 # graviational acceleration"
   ]
  },
  {
   "cell_type": "code",
   "execution_count": 6,
   "id": "93a44bce",
   "metadata": {},
   "outputs": [],
   "source": [
    "# def phi(x,y,dx,dy):\n",
    "#     return [x+x*y*dx,y+x*y*dy]\n",
    "\n",
    "# def eps(u):\n",
    "#     return 0.5 * (grad(u) + grad(u).trans)\n",
    "\n",
    "# def sigma(u):\n",
    "#     return 2*G*eps(u) + lam*Trace(eps(u))*Id(u.dim)\n",
    "\n",
    "# u, v = V.TnT()\n",
    "# a = BilinearForm(V)\n",
    "# a+= InnerProduct(sigma(u), eps(v)) * dx\n",
    "\n",
    "# f = LinearForm(V).Add( CoefficientFunction((0,-g*rho)) * v * dx )\n"
   ]
  },
  {
   "cell_type": "code",
   "execution_count": 7,
   "id": "0a1f90ac",
   "metadata": {},
   "outputs": [],
   "source": [
    "from ngsolve import *\n",
    "from netgen.geom2d import unit_square\n",
    "\n",
    "mesh = Mesh(unit_square.GenerateMesh(maxh=0.1))\n",
    "\n",
    "order = 2\n",
    "V = VectorH1(mesh, order=order, dirichlet=\"left\")\n",
    "\n",
    "E, nu = 5e6, 0.25\n",
    "lam = E*nu / ((1+nu)*(1-2*nu))\n",
    "mu  = E/(2*(1+nu))\n",
    "\n",
    "u, v = V.TnT()\n",
    "\n",
    "def eps(u):\n",
    "    return 0.5*(Grad(u) + Grad(u).trans)\n",
    "\n",
    "def sigma(u):\n",
    "    return 2*mu*eps(u) + lam*Trace(eps(u))*Id(u.dim)\n",
    "\n",
    "a = BilinearForm(V).Add( InnerProduct(sigma(u), eps(v)) * dx )\n",
    "\n",
    "rho, g = 7850, 9.81\n",
    "f = LinearForm(V).Add( CoefficientFunction((0,-g*rho)) * v * dx )\n",
    "\n",
    "gfu = GridFunction(V)\n",
    "a.Assemble(); f.Assemble()\n",
    "# solvers.CG(a.mat, gfu.vec, f.vec)\n",
    "inv = a.mat.Inverse(V.FreeDofs(), inverse=\"pardiso\")\n",
    "gfu.vec.data = inv * f.vec\n"
   ]
  },
  {
   "cell_type": "code",
   "execution_count": 14,
   "id": "929677fe",
   "metadata": {},
   "outputs": [
    {
     "data": {
      "application/vnd.jupyter.widget-view+json": {
       "model_id": "89c5d1ea874a44d8b61ebe650f871d84",
       "version_major": 2,
       "version_minor": 0
      },
      "text/plain": [
       "WebGuiWidget(layout=Layout(height='500px', width='100%'), value={'gui_settings': {}, 'ngsolve_version': '6.2.2…"
      ]
     },
     "metadata": {},
     "output_type": "display_data"
    },
    {
     "data": {
      "text/plain": [
       "BaseWebGuiScene"
      ]
     },
     "execution_count": 14,
     "metadata": {},
     "output_type": "execute_result"
    }
   ],
   "source": [
    "from ngsolve.webgui import Draw\n",
    "\n",
    "Draw(gfu,mesh)\n"
   ]
  },
  {
   "cell_type": "code",
   "execution_count": 11,
   "id": "ee22c230",
   "metadata": {},
   "outputs": [
    {
     "data": {
      "application/vnd.jupyter.widget-view+json": {
       "model_id": "8a03d2ce3abb4ded8dc5b1cba057a898",
       "version_major": 2,
       "version_minor": 0
      },
      "text/plain": [
       "WebGuiWidget(layout=Layout(height='500px', width='100%'), value={'gui_settings': {}, 'ngsolve_version': '6.2.2…"
      ]
     },
     "metadata": {},
     "output_type": "display_data"
    },
    {
     "data": {
      "text/plain": [
       "BaseWebGuiScene"
      ]
     },
     "execution_count": 11,
     "metadata": {},
     "output_type": "execute_result"
    }
   ],
   "source": [
    "from ngsolve.internal import visoptions\n",
    "Draw(gfu)\n"
   ]
  }
 ],
 "metadata": {
  "kernelspec": {
   "display_name": ".venv",
   "language": "python",
   "name": "python3"
  },
  "language_info": {
   "codemirror_mode": {
    "name": "ipython",
    "version": 3
   },
   "file_extension": ".py",
   "mimetype": "text/x-python",
   "name": "python",
   "nbconvert_exporter": "python",
   "pygments_lexer": "ipython3",
   "version": "3.12.6"
  }
 },
 "nbformat": 4,
 "nbformat_minor": 5
}
