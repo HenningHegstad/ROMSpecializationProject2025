{
 "cells": [
  {
   "cell_type": "code",
   "execution_count": 7,
   "id": "d4a47661",
   "metadata": {},
   "outputs": [],
   "source": [
    "# ===== Reduced Order Modeling with NGSolve + pyMOR (POD-Galerkin) =====\n",
    "import numpy as np\n",
    "from ngsolve import *\n",
    "from netgen.geom2d import unit_square\n",
    "\n",
    "from pymor.algorithms.pod import pod\n",
    "from pymor.vectorarrays.numpy import NumpyVectorSpace\n",
    "import matplotlib.pyplot as plt\n"
   ]
  },
  {
   "cell_type": "code",
   "execution_count": 8,
   "id": "15e3d97f",
   "metadata": {},
   "outputs": [],
   "source": [
    "# ==========================================================\n",
    "# 1) High-fidelity model (FOM) with parametric 2x2 κ-matrix\n",
    "# ==========================================================\n",
    "mesh = Mesh(unit_square.GenerateMesh(maxh=0.05))\n",
    "V = H1(mesh, order=3, dirichlet=\"left|right|bottom|top\")\n",
    "u, v = V.TnT()\n",
    "\n",
    "# --- Parameter-independent right-hand side f ---\n",
    "f = LinearForm(V)\n",
    "f += 32 * (y * (1 - y) + x * (1 - x)) * v * dx\n",
    "f.Assemble()\n",
    "f_vec = np.array(f.vec)\n",
    "\n",
    "# --- Reference bilinear forms for each κ entry ---\n",
    "# κ = [[μ11, μ12],\n",
    "#      [μ21, μ22]]\n",
    "a11 = BilinearForm(V, symmetric=True)\n",
    "a11 += grad(u)[0] * grad(v)[0] * dx\n",
    "a11.Assemble()\n",
    "\n",
    "a12 = BilinearForm(V, symmetric=True)\n",
    "a12 += grad(u)[1] * grad(v)[0] * dx\n",
    "a12.Assemble()\n",
    "\n",
    "a21 = BilinearForm(V, symmetric=True)\n",
    "a21 += grad(u)[0] * grad(v)[1] * dx\n",
    "a21.Assemble()\n",
    "\n",
    "a22 = BilinearForm(V, symmetric=True)\n",
    "a22 += grad(u)[1] * grad(v)[1] * dx\n",
    "a22.Assemble()\n",
    "\n",
    "# Full-order solve for given κ\n",
    "def solve_full(kappa: np.ndarray) -> np.ndarray:\n",
    "    \"\"\"kappa: 2x2 array-like of floats.\"\"\"\n",
    "    a_mu = BilinearForm(V, symmetric=True)\n",
    "    a_mu += kappa[0, 0] * grad(u)[0] * grad(v)[0] * dx\n",
    "    a_mu += kappa[0, 1] * grad(u)[1] * grad(v)[0] * dx\n",
    "    a_mu += kappa[1, 0] * grad(u)[0] * grad(v)[1] * dx\n",
    "    a_mu += kappa[1, 1] * grad(u)[1] * grad(v)[1] * dx\n",
    "    a_mu.Assemble()\n",
    "\n",
    "    gfu = GridFunction(V)\n",
    "    gfu.vec.data = a_mu.mat.Inverse(V.FreeDofs()) * f.vec\n",
    "    return np.array(gfu.vec)  # shape (ndofs,)\n"
   ]
  },
  {
   "cell_type": "code",
   "execution_count": 9,
   "id": "e0993ffb",
   "metadata": {},
   "outputs": [
    {
     "name": "stdout",
     "output_type": "stream",
     "text": [
      "ndofs=4351, nsnapshots=1000\n"
     ]
    }
   ],
   "source": [
    "# ==========================================================\n",
    "# 2) Snapshot generation for multiple κ samples\n",
    "# ==========================================================\n",
    "# sample each μ_ij in some range, independently\n",
    "ntrain = 1000\n",
    "\n",
    "# --- κ sampler: symmetric positive-definite, bounded anisotropy ---\n",
    "def sample_anisotropic_spd(k_min=0.01, k_max=20, max_anisotropy=20.0):\n",
    "    # sample first eigenvalue\n",
    "    lam1 = np.random.uniform(k_min, k_max)\n",
    "    # sample anisotropy ratio within bounds\n",
    "    r = np.random.uniform(1.0, max_anisotropy)\n",
    "    # second eigenvalue from ratio, clipped to bounds\n",
    "    lam2 = np.clip(lam1 * r if np.random.rand() < 0.5 else lam1 / r, k_min, k_max)\n",
    "    # random rotation\n",
    "    theta = np.random.uniform(0, 2*np.pi)\n",
    "    c, s = np.cos(theta), np.sin(theta)\n",
    "    R = np.array([[c, -s], [s, c]])\n",
    "    # SPD tensor\n",
    "    return R @ np.diag([lam1, lam2]) @ R.T\n",
    "\n",
    "snapshots = []\n",
    "for i in range(ntrain):\n",
    "    kappa = sample_anisotropic_spd(k_min=0.01, k_max=20.0, max_anisotropy=20.0)\n",
    "    snapshots.append(solve_full(kappa))\n",
    "\n",
    "X = np.column_stack(snapshots)           # (ndofs, nsnap)\n",
    "ndofs, nsnap = X.shape\n",
    "print(f\"ndofs={ndofs}, nsnapshots={nsnap}\")\n"
   ]
  },
  {
   "cell_type": "code",
   "execution_count": 10,
   "id": "9406d45e",
   "metadata": {},
   "outputs": [
    {
     "data": {
      "application/vnd.jupyter.widget-view+json": {
       "model_id": "eb9fe0a0c90f486f834c4c0e2b8ae4c6",
       "version_major": 2,
       "version_minor": 0
      },
      "text/plain": [
       "Accordion(children=(HTML(value='', layout=Layout(height='16em', width='100%')),), titles=('Log Output',))"
      ]
     },
     "metadata": {},
     "output_type": "display_data"
    },
    {
     "data": {
      "image/png": "[encoded data removed]",
      "text/plain": [
       "<Figure size 640x480 with 1 Axes>"
      ]
     },
     "metadata": {},
     "output_type": "display_data"
    },
    {
     "name": "stdout",
     "output_type": "stream",
     "text": [
      "Requested modes=50, obtained modes r=33\n"
     ]
    }
   ],
   "source": [
    "# ==========================================================\n",
    "# 3) POD basis construction\n",
    "# ==========================================================\n",
    "\n",
    "max_modes = 50\n",
    "\n",
    "space = NumpyVectorSpace(ndofs)\n",
    "snapshots_va = space.from_numpy(X.T)     # shape (nsnap, ndofs)\n",
    "\n",
    "req_modes = min(max_modes, len(snapshots_va))\n",
    "RB_va, svals= pod(snapshots_va, modes=req_modes,rtol=1e-5)\n",
    "\n",
    "plt.loglog(svals, 'o-')\n",
    "plt.title('POD singular values')\n",
    "plt.xlabel('Mode index')\n",
    "plt.ylabel('Singular value')\n",
    "plt.grid()\n",
    "plt.show()\n",
    "\n",
    "Vrb = RB_va.to_numpy().T                # columns: POD basis vecs\n",
    "r = Vrb.shape[1]\n",
    "print(f\"Requested modes={req_modes}, obtained modes r={r}\")\n",
    "\n",
    "# ==========================================================\n",
    "# 4) Reduced operators (offline)\n",
    "# ==========================================================\n",
    "# Apply component stiffness to coeff vector\n",
    "def apply_Acomp(coeffs: np.ndarray, aform: BilinearForm) -> np.ndarray:\n",
    "    gfu_in = GridFunction(V)\n",
    "    gfu_in.vec[:] = coeffs\n",
    "    vec_out = gfu_in.vec.CreateVector()\n",
    "    vec_out.data = aform.mat * gfu_in.vec\n",
    "    return np.array(vec_out)\n",
    "\n",
    "# Precompute reduced matrices for each κ entry\n",
    "A11r = Vrb.T @ np.column_stack([apply_Acomp(Vrb[:, j], a11) for j in range(r)])\n",
    "A12r = Vrb.T @ np.column_stack([apply_Acomp(Vrb[:, j], a12) for j in range(r)])\n",
    "A21r = Vrb.T @ np.column_stack([apply_Acomp(Vrb[:, j], a21) for j in range(r)])\n",
    "A22r = Vrb.T @ np.column_stack([apply_Acomp(Vrb[:, j], a22) for j in range(r)])\n",
    "\n",
    "# Reduced RHS\n",
    "fr = Vrb.T @ f_vec\n"
   ]
  },
  {
   "cell_type": "code",
   "execution_count": null,
   "id": "9c727419",
   "metadata": {},
   "outputs": [
    {
     "name": "stdout",
     "output_type": "stream",
     "text": [
      "Relative error for kappa=[[5.0, 2.0], [1.0, 4.0]]: 1.166e-04\n"
     ]
    },
    {
     "data": {
      "application/vnd.jupyter.widget-view+json": {
       "model_id": "b4e1d06481de480a9889d79b93a20c19",
       "version_major": 2,
       "version_minor": 0
      },
      "text/plain": [
       "WebGuiWidget(layout=Layout(height='500px', width='100%'), value={'gui_settings': {}, 'ngsolve_version': '6.2.2…"
      ]
     },
     "metadata": {},
     "output_type": "display_data"
    },
    {
     "data": {
      "application/vnd.jupyter.widget-view+json": {
       "model_id": "a1a93533d86b43e8a306dc5758df563f",
       "version_major": 2,
       "version_minor": 0
      },
      "text/plain": [
       "WebGuiWidget(layout=Layout(height='500px', width='100%'), value={'gui_settings': {}, 'ngsolve_version': '6.2.2…"
      ]
     },
     "metadata": {},
     "output_type": "display_data"
    },
    {
     "data": {
      "text/plain": [
       "BaseWebGuiScene"
      ]
     },
     "execution_count": 11,
     "metadata": {},
     "output_type": "execute_result"
    }
   ],
   "source": [
    "# ==========================================================\n",
    "# 5) Online reduced solve\n",
    "# ==========================================================\n",
    "from scipy.linalg import cho_factor, cho_solve\n",
    "def solve_reduced(kappa: np.ndarray) -> np.ndarray:\n",
    "    \"\"\"Solve ROM for 2x2 constant κ tensor.\n",
    "    \n",
    "    First tries Cholesky (fast path for SPD systems).\n",
    "    Falls back to np.linalg.solve if Cholesky fails.\n",
    "    \"\"\"\n",
    "    # Assemble reduced matrix Ar(κ)\n",
    "    Ar = (\n",
    "          kappa[0, 0] * A11r\n",
    "        + kappa[0, 1] * A12r\n",
    "        + kappa[1, 0] * A21r\n",
    "        + kappa[1, 1] * A22r\n",
    "    )\n",
    "    try:\n",
    "        # Try Cholesky factorisation and solve\n",
    "        c, lower = cho_factor(Ar, check_finite=False)\n",
    "        y = cho_solve((c, lower), fr, check_finite=False)    \n",
    "    except Exception as e:\n",
    "        # Warn and fall back\n",
    "        print(f\"Warning: Cholesky solve failed ({e}), using np.linalg.solve instead.\")\n",
    "        y = np.linalg.solve(Ar, fr)\n",
    "\n",
    "    # Lift back to full‑order space\n",
    "    return Vrb @ y\n",
    "\n",
    "kappa_test = np.array([[5.0, 2.0],\n",
    "                       [1.0, 4.0]])\n",
    "\n",
    "u_rom = solve_reduced(kappa_test)\n",
    "u_fom = solve_full(kappa_test)\n",
    "rel_err = np.linalg.norm(u_fom - u_rom) / np.linalg.norm(u_fom)\n",
    "print(f\"Relative error for kappa={kappa_test.tolist()}: {rel_err:.3e}\")\n",
    "\n",
    "\n",
    "from ngsolve.webgui import Draw\n",
    "gfu_fom = GridFunction(V); gfu_fom.vec[:] = u_fom\n",
    "gfu_rom = GridFunction(V); gfu_rom.vec[:] = u_rom\n",
    "Draw(gfu_rom, mesh, \"ROM\")\n",
    "Draw(gfu_fom, mesh, \"FOM\")\n"
   ]
  },
  {
   "cell_type": "code",
   "execution_count": 12,
   "id": "c9e7b880",
   "metadata": {},
   "outputs": [
    {
     "name": "stdout",
     "output_type": "stream",
     "text": [
      "Time for 100 FOM solves: 1.390e+00 seconds\n",
      "Time for 100 ROM solves: 9.003e-03 seconds\n",
      "Mean relative L2 error over 100 tests: 1.866e-04\n",
      "Max  relative L2 error over 100 tests: 8.312e-04\n"
     ]
    }
   ],
   "source": [
    "import time\n",
    "\n",
    "# number of tests\n",
    "n_tests = 100\n",
    "\n",
    "# store (kappa, u_fom) for later ROM and error calculation\n",
    "fom_data = []\n",
    "\n",
    "# --- FOM timing ---\n",
    "start = time.time()\n",
    "for _ in range(n_tests):\n",
    "    kappa_rand = sample_anisotropic_spd(k_min=0.1, k_max=20.0, max_anisotropy=20.0)\n",
    "    u_fom = solve_full(kappa_rand)\n",
    "    fom_data.append((kappa_rand, u_fom))\n",
    "end = time.time()\n",
    "print(f\"Time for {n_tests} FOM solves: {end - start:.3e} seconds\")\n",
    "\n",
    "# --- ROM timing ---\n",
    "rom_solutions = []\n",
    "start = time.time()\n",
    "for kappa_rand, _ in fom_data:\n",
    "    u_rom = solve_reduced(kappa_rand)\n",
    "    rom_solutions.append(u_rom)\n",
    "end = time.time()\n",
    "print(f\"Time for {n_tests} ROM solves: {end - start:.3e} seconds\")\n",
    "\n",
    "# --- L2 relative errors (outside timing) ---\n",
    "l2_errors = [\n",
    "    np.linalg.norm(u_fom - u_rom) / np.linalg.norm(u_fom)\n",
    "    for (_, u_fom), u_rom in zip(fom_data, rom_solutions)\n",
    "]\n",
    "\n",
    "print(f\"Mean relative L2 error over {n_tests} tests: {np.mean(l2_errors):.3e}\")\n",
    "print(f\"Max  relative L2 error over {n_tests} tests: {np.max(l2_errors):.3e}\")\n"
   ]
  }
 ],
 "metadata": {
  "kernelspec": {
   "display_name": ".venv",
   "language": "python",
   "name": "python3"
  },
  "language_info": {
   "codemirror_mode": {
    "name": "ipython",
    "version": 3
   },
   "file_extension": ".py",
   "mimetype": "text/x-python",
   "name": "python",
   "nbconvert_exporter": "python",
   "pygments_lexer": "ipython3",
   "version": "3.12.6"
  }
 },
 "nbformat": 4,
 "nbformat_minor": 5
}
