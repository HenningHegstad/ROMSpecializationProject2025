{
 "cells": [
  {
   "cell_type": "code",
   "execution_count": 22,
   "id": "2461195f",
   "metadata": {},
   "outputs": [
    {
     "name": "stdout",
     "output_type": "stream",
     "text": [
      "2024.2.0 6.2.2505\n"
     ]
    }
   ],
   "source": [
    "import pymor, ngsolve\n",
    "print(pymor.__version__, ngsolve.__version__)\n"
   ]
  },
  {
   "cell_type": "code",
   "execution_count": 20,
   "id": "0e528f0a",
   "metadata": {},
   "outputs": [
    {
     "ename": "AttributeError",
     "evalue": "'ngsolve.la.BaseVector' object has no attribute 'vec'",
     "output_type": "error",
     "traceback": [
      "\u001b[31m---------------------------------------------------------------------------\u001b[39m",
      "\u001b[31mAttributeError\u001b[39m                            Traceback (most recent call last)",
      "\u001b[36mCell\u001b[39m\u001b[36m \u001b[39m\u001b[32mIn[20]\u001b[39m\u001b[32m, line 36\u001b[39m\n\u001b[32m     31\u001b[39m rhs = space.make_array([f.vec])\n\u001b[32m     33\u001b[39m \u001b[38;5;66;03m# --------------------------------------------------------------------\u001b[39;00m\n\u001b[32m     34\u001b[39m \u001b[38;5;66;03m# Step 3. Solve via pyMOR operator interface\u001b[39;00m\n\u001b[32m     35\u001b[39m \u001b[38;5;66;03m# --------------------------------------------------------------------\u001b[39;00m\n\u001b[32m---> \u001b[39m\u001b[32m36\u001b[39m u_sol = \u001b[43mop\u001b[49m\u001b[43m.\u001b[49m\u001b[43mapply_inverse\u001b[49m\u001b[43m(\u001b[49m\u001b[43mrhs\u001b[49m\u001b[43m)\u001b[49m   \u001b[38;5;66;03m# still a pyMOR VectorArray\u001b[39;00m\n\u001b[32m     38\u001b[39m \u001b[38;5;66;03m# --------------------------------------------------------------------\u001b[39;00m\n\u001b[32m     39\u001b[39m \u001b[38;5;66;03m# Step 4. Export solution back to NGSolve for visualization\u001b[39;00m\n\u001b[32m     40\u001b[39m \u001b[38;5;66;03m# --------------------------------------------------------------------\u001b[39;00m\n\u001b[32m     41\u001b[39m u_ngsolve = GridFunction(V)\n",
      "\u001b[36mFile \u001b[39m\u001b[32mc:\\Users\\henni\\OneDrive\\Dokumenter\\GitHub\\ROMSpecializationProject2025\\.venv\\Lib\\site-packages\\pymor\\operators\\list.py:41\u001b[39m, in \u001b[36mListVectorArrayOperatorBase.apply_inverse\u001b[39m\u001b[34m(self, V, mu, initial_guess, least_squares)\u001b[39m\n\u001b[32m     39\u001b[39m \u001b[38;5;28;01mtry\u001b[39;00m:\n\u001b[32m     40\u001b[39m     data = \u001b[38;5;28mself\u001b[39m._prepare_apply(V, mu, \u001b[33m'\u001b[39m\u001b[33mapply_inverse\u001b[39m\u001b[33m'\u001b[39m, least_squares=least_squares)\n\u001b[32m---> \u001b[39m\u001b[32m41\u001b[39m     U = [\u001b[38;5;28;43mself\u001b[39;49m\u001b[43m.\u001b[49m\u001b[43m_apply_inverse_one_vector\u001b[49m\u001b[43m(\u001b[49m\u001b[43mv\u001b[49m\u001b[43m,\u001b[49m\u001b[43m \u001b[49m\u001b[43mmu\u001b[49m\u001b[43m=\u001b[49m\u001b[43mmu\u001b[49m\u001b[43m,\u001b[49m\n\u001b[32m     42\u001b[39m \u001b[43m                                        \u001b[49m\u001b[43minitial_guess\u001b[49m\u001b[43m=\u001b[49m\u001b[43m(\u001b[49m\u001b[43minitial_guess\u001b[49m\u001b[43m.\u001b[49m\u001b[43mvectors\u001b[49m\u001b[43m[\u001b[49m\u001b[43mi\u001b[49m\u001b[43m]\u001b[49m\n\u001b[32m     43\u001b[39m \u001b[43m                                                       \u001b[49m\u001b[38;5;28;43;01mif\u001b[39;49;00m\u001b[43m \u001b[49m\u001b[43minitial_guess\u001b[49m\u001b[43m \u001b[49m\u001b[38;5;129;43;01mis\u001b[39;49;00m\u001b[43m \u001b[49m\u001b[38;5;129;43;01mnot\u001b[39;49;00m\u001b[43m \u001b[49m\u001b[38;5;28;43;01mNone\u001b[39;49;00m\u001b[43m \u001b[49m\u001b[38;5;28;43;01melse\u001b[39;49;00m\u001b[43m \u001b[49m\u001b[38;5;28;43;01mNone\u001b[39;49;00m\u001b[43m)\u001b[49m\u001b[43m,\u001b[49m\n\u001b[32m     44\u001b[39m \u001b[43m                                        \u001b[49m\u001b[43mleast_squares\u001b[49m\u001b[43m=\u001b[49m\u001b[43mleast_squares\u001b[49m\u001b[43m,\u001b[49m\u001b[43m \u001b[49m\u001b[43mprepare_data\u001b[49m\u001b[43m=\u001b[49m\u001b[43mdata\u001b[49m\u001b[43m)\u001b[49m\n\u001b[32m     45\u001b[39m          \u001b[38;5;28;01mfor\u001b[39;00m i, v \u001b[38;5;129;01min\u001b[39;00m \u001b[38;5;28menumerate\u001b[39m(V.vectors)]\n\u001b[32m     46\u001b[39m \u001b[38;5;28;01mexcept\u001b[39;00m \u001b[38;5;167;01mNotImplementedError\u001b[39;00m:\n\u001b[32m     47\u001b[39m     \u001b[38;5;28;01mreturn\u001b[39;00m \u001b[38;5;28msuper\u001b[39m().apply_inverse(V, mu=mu, least_squares=least_squares)\n",
      "\u001b[36mFile \u001b[39m\u001b[32mc:\\Users\\henni\\OneDrive\\Dokumenter\\GitHub\\ROMSpecializationProject2025\\.venv\\Lib\\site-packages\\pymor\\operators\\list.py:101\u001b[39m, in \u001b[36mLinearComplexifiedListVectorArrayOperatorBase._apply_inverse_one_vector\u001b[39m\u001b[34m(self, v, mu, initial_guess, least_squares, prepare_data)\u001b[39m\n\u001b[32m    100\u001b[39m \u001b[38;5;28;01mdef\u001b[39;00m\u001b[38;5;250m \u001b[39m\u001b[34m_apply_inverse_one_vector\u001b[39m(\u001b[38;5;28mself\u001b[39m, v, mu=\u001b[38;5;28;01mNone\u001b[39;00m, initial_guess=\u001b[38;5;28;01mNone\u001b[39;00m, least_squares=\u001b[38;5;28;01mFalse\u001b[39;00m, prepare_data=\u001b[38;5;28;01mNone\u001b[39;00m):\n\u001b[32m--> \u001b[39m\u001b[32m101\u001b[39m     real_part = \u001b[38;5;28;43mself\u001b[39;49m\u001b[43m.\u001b[49m\u001b[43m_real_apply_inverse_one_vector\u001b[49m\u001b[43m(\u001b[49m\u001b[43mv\u001b[49m\u001b[43m.\u001b[49m\u001b[43mreal_part\u001b[49m\u001b[43m,\u001b[49m\u001b[43m \u001b[49m\u001b[43mmu\u001b[49m\u001b[43m=\u001b[49m\u001b[43mmu\u001b[49m\u001b[43m,\u001b[49m\n\u001b[32m    102\u001b[39m \u001b[43m                                                    \u001b[49m\u001b[43minitial_guess\u001b[49m\u001b[43m=\u001b[49m\u001b[43m(\u001b[49m\u001b[43minitial_guess\u001b[49m\u001b[43m.\u001b[49m\u001b[43mreal_part\u001b[49m\n\u001b[32m    103\u001b[39m \u001b[43m                                                                   \u001b[49m\u001b[38;5;28;43;01mif\u001b[39;49;00m\u001b[43m \u001b[49m\u001b[43minitial_guess\u001b[49m\u001b[43m \u001b[49m\u001b[38;5;129;43;01mis\u001b[39;49;00m\u001b[43m \u001b[49m\u001b[38;5;129;43;01mnot\u001b[39;49;00m\u001b[43m \u001b[49m\u001b[38;5;28;43;01mNone\u001b[39;49;00m\u001b[43m \u001b[49m\u001b[38;5;28;43;01melse\u001b[39;49;00m\u001b[43m \u001b[49m\u001b[38;5;28;43;01mNone\u001b[39;49;00m\u001b[43m)\u001b[49m\u001b[43m,\u001b[49m\n\u001b[32m    104\u001b[39m \u001b[43m                                                    \u001b[49m\u001b[43mleast_squares\u001b[49m\u001b[43m=\u001b[49m\u001b[43mleast_squares\u001b[49m\u001b[43m,\u001b[49m\n\u001b[32m    105\u001b[39m \u001b[43m                                                    \u001b[49m\u001b[43mprepare_data\u001b[49m\u001b[43m=\u001b[49m\u001b[43mprepare_data\u001b[49m\u001b[43m)\u001b[49m\n\u001b[32m    106\u001b[39m     \u001b[38;5;28;01mif\u001b[39;00m v.imag_part \u001b[38;5;129;01mis\u001b[39;00m \u001b[38;5;129;01mnot\u001b[39;00m \u001b[38;5;28;01mNone\u001b[39;00m:\n\u001b[32m    107\u001b[39m         imag_part = \u001b[38;5;28mself\u001b[39m._real_apply_inverse_one_vector(v.imag_part, mu=mu,\n\u001b[32m    108\u001b[39m                                                         initial_guess=(initial_guess.imag_part\n\u001b[32m    109\u001b[39m                                                                        \u001b[38;5;28;01mif\u001b[39;00m initial_guess \u001b[38;5;129;01mis\u001b[39;00m \u001b[38;5;129;01mnot\u001b[39;00m \u001b[38;5;28;01mNone\u001b[39;00m \u001b[38;5;28;01melse\u001b[39;00m \u001b[38;5;28;01mNone\u001b[39;00m),\n\u001b[32m    110\u001b[39m                                                         least_squares=least_squares,\n\u001b[32m    111\u001b[39m                                                         prepare_data=prepare_data)\n",
      "\u001b[36mFile \u001b[39m\u001b[32mc:\\Users\\henni\\OneDrive\\Dokumenter\\GitHub\\ROMSpecializationProject2025\\.venv\\Lib\\site-packages\\pymor\\bindings\\ngsolve.py:151\u001b[39m, in \u001b[36mNGSolveMatrixOperator._real_apply_inverse_one_vector\u001b[39m\u001b[34m(self, v, mu, initial_guess, least_squares, prepare_data)\u001b[39m\n\u001b[32m    149\u001b[39m inv = prepare_data\n\u001b[32m    150\u001b[39m r = \u001b[38;5;28mself\u001b[39m.source.real_zero_vector()\n\u001b[32m--> \u001b[39m\u001b[32m151\u001b[39m r.impl.vec.data = inv * \u001b[43mv\u001b[49m\u001b[43m.\u001b[49m\u001b[43mimpl\u001b[49m\u001b[43m.\u001b[49m\u001b[43mvec\u001b[49m\n\u001b[32m    152\u001b[39m \u001b[38;5;28;01mreturn\u001b[39;00m r\n",
      "\u001b[31mAttributeError\u001b[39m: 'ngsolve.la.BaseVector' object has no attribute 'vec'"
     ]
    }
   ],
   "source": [
    "# ngsolve + pymor example: Poisson problem\n",
    "#\n",
    "# Requires:\n",
    "#   pip install ngsolve pymor\n",
    "\n",
    "from ngsolve import *\n",
    "from netgen.geom2d import unit_square\n",
    "\n",
    "from pymor.bindings.ngsolve import (\n",
    "    NGSolveMatrixOperator,\n",
    "    NGSolveVectorSpace\n",
    ")\n",
    "\n",
    "# --------------------------------------------------------------------\n",
    "# Step 1. Build an NGSolve model: Poisson equation on unit square\n",
    "# --------------------------------------------------------------------\n",
    "mesh = Mesh(unit_square.GenerateMesh(maxh=0.2))\n",
    "\n",
    "V = H1(mesh, order=2, dirichlet=\".*\")   # H1 space with Dirichlet BCs\n",
    "\n",
    "u, v = V.TnT()\n",
    "\n",
    "a = BilinearForm(grad(u) * grad(v) * dx).Assemble()\n",
    "f = LinearForm(v * dx).Assemble()\n",
    "\n",
    "# --------------------------------------------------------------------\n",
    "# Step 2. Wrap NGSolve objects as pyMOR operators/vectors\n",
    "# --------------------------------------------------------------------\n",
    "space = NGSolveVectorSpace(V)\n",
    "op = NGSolveMatrixOperator(a.mat, source=space, range=space)\n",
    "rhs = space.make_array([f.vec])\n",
    "\n",
    "# --------------------------------------------------------------------\n",
    "# Step 3. Solve via pyMOR operator interface\n",
    "# --------------------------------------------------------------------\n",
    "u_sol = op.apply_inverse(rhs)   # still a pyMOR VectorArray\n",
    "\n",
    "# --------------------------------------------------------------------\n",
    "# Step 4. Export solution back to NGSolve for visualization\n",
    "# --------------------------------------------------------------------\n",
    "u_ngsolve = GridFunction(V)\n",
    "# take the first vector from the VectorArray, get the NGSolve BaseVector\n",
    "u_ngsolve.vec.data = u_sol[0].as_vector().data\n",
    "\n",
    "Draw(u_ngsolve)\n",
    "print(\"||u||_L2 =\", u_sol.norm())\n"
   ]
  }
 ],
 "metadata": {
  "kernelspec": {
   "display_name": ".venv",
   "language": "python",
   "name": "python3"
  },
  "language_info": {
   "codemirror_mode": {
    "name": "ipython",
    "version": 3
   },
   "file_extension": ".py",
   "mimetype": "text/x-python",
   "name": "python",
   "nbconvert_exporter": "python",
   "pygments_lexer": "ipython3",
   "version": "3.12.6"
  }
 },
 "nbformat": 4,
 "nbformat_minor": 5
}
