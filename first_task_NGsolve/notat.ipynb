{
 "cells": [
  {
   "cell_type": "markdown",
   "id": "e0c7f84e",
   "metadata": {},
   "source": [
    "TODO 28.08.2025 -> 04.09.2025:\n",
    "- Se på summen av singulærverdiene, og sammelikn med error til slutt. Prøv å integrere, istedet for å summe\n",
    "- Implementere en \"load\" på randen. \"Mu_2 på randen\"\n",
    "- Prøve å implementere kapittel 3.8 i quartaroni\n",
    "- Se på videoen i linken Trond skal sende\n",
    "\n",
    "- Plotte error med forskjellige cutoff-verdier.\n",
    "\n",
    "- (Skrive på rapporten)\n",
    "\n"
   ]
  },
  {
   "cell_type": "markdown",
   "id": "45f641e7",
   "metadata": {},
   "source": [
    "Spørsmål til 05.08.2025\n",
    " - Mismatch på error og sigma sum\n",
    " - Hvilken norm skal man bruke i 3.8"
   ]
  },
  {
   "cell_type": "markdown",
   "id": "1c59139e",
   "metadata": {},
   "source": [
    "TODO 05.08.2025 -> 11.08.2025\n",
    " - Få til streamline på stationary navier stokes i ParaView. Evt fikse se om det noen feil med BC\n",
    " - Lese Rapid paper, begynne på implementasjonen\n",
    " - kjøre koden med like mange DOFs som boka"
   ]
  },
  {
   "cell_type": "markdown",
   "id": "dad1fba4",
   "metadata": {},
   "source": [
    "Spørsmål til 11.08.\n",
    " - Kan ikke ha splines i NGSolve\n",
    " - AROMA kodebase?\n",
    " "
   ]
  }
 ],
 "metadata": {
  "language_info": {
   "name": "python"
  }
 },
 "nbformat": 4,
 "nbformat_minor": 5
}
