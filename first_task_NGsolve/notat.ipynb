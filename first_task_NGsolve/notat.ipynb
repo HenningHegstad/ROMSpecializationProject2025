{
 "cells": [
  {
   "cell_type": "markdown",
   "id": "e0c7f84e",
   "metadata": {},
   "source": [
    "TODO 28.08.2025 -> 04.09.2025:\n",
    "- Se på summen av singulærverdiene, og sammelikn med error til slutt. Prøv å integrere, istedet for å summe\n",
    "- Implementere en \"load\" på randen. \"Mu_2 på randen\"\n",
    "- Prøve å implementere kapittel 3.8 i quartaroni\n",
    "- Se på videoen i linken Trond skal sende\n",
    "\n",
    "- Plotte error med forskjellige cutoff-verdier.\n",
    "\n",
    "- (Skrive på rapporten)\n",
    "\n"
   ]
  },
  {
   "cell_type": "markdown",
   "id": "45f641e7",
   "metadata": {},
   "source": [
    "Spørsmål til 05.08.2025\n",
    " - Mismatch på error og sigma sum\n",
    " - Hvilken norm skal man bruke i 3.8"
   ]
  },
  {
   "cell_type": "markdown",
   "id": "1c59139e",
   "metadata": {},
   "source": [
    "TODO 05.08.2025 -> 11.08.2025\n",
    " - Få til streamline på stationary navier stokes i ParaView. Evt fikse se om det noen feil med BC\n",
    " - Lese Rapid paper, begynne på implementasjonen"
   ]
  },
  {
   "cell_type": "markdown",
   "id": "dad1fba4",
   "metadata": {},
   "source": [
    "Spørsmål til 11.08.\n",
    " - Kan ikke ha splines i NGSolve\n",
    " - AROMA kodebase?\n",
    " "
   ]
  },
  {
   "cell_type": "markdown",
   "id": "21c76661",
   "metadata": {},
   "source": [
    "TODO 12.09.2025 -> 19.09.2025\n",
    "\n",
    "- Tenke på et nytt ikke-lineært problem\n",
    "- Finne feil i Ax=b, men med A og Ã, med samme b.\n",
    "- Plotte feil mot polynomgrad\n",
    "- Skrive i rapport"
   ]
  }
 ],
 "metadata": {
  "language_info": {
   "name": "python"
  }
 },
 "nbformat": 4,
 "nbformat_minor": 5
}
