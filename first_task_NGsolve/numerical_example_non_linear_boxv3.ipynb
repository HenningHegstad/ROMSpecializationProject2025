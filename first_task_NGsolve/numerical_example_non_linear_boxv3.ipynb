{
 "cells": [
  {
   "cell_type": "code",
   "execution_count": 1,
   "id": "7cc0c5b2",
   "metadata": {},
   "outputs": [],
   "source": [
    "# ===== Reduced Order Modeling with NGSolve + pyMOR (POD-Galerkin) =====\n",
    "from ngsolve import *\n",
    "from ngsolve import Mesh\n",
    "from ngsolve import x, y, z\n",
    "from ngsolve.webgui import Draw\n",
    "from netgen.geom2d import unit_square\n",
    "from netgen.occ import *\n",
    "\n",
    "from pymor.algorithms.pod import pod\n",
    "from pymor.vectorarrays.numpy import NumpyVectorSpace\n",
    "from collections import Counter\n",
    "\n",
    "import matplotlib.pyplot as plt\n",
    "import numpy as np\n"
   ]
  },
  {
   "cell_type": "code",
   "execution_count": 2,
   "id": "c6ad9006",
   "metadata": {},
   "outputs": [],
   "source": [
    "mesh = Mesh(unit_square.GenerateMesh(maxh=0.1,quad_dominated=True))\n",
    "\n",
    "E = 5e6 # Youngs module\n",
    "nu = 0.25 # Poisson ratio\n",
    "lam = E*nu / ((1+nu)*(1-2*nu))\n",
    "G  = E / (2*(1+nu))\n",
    "\n",
    "V = VectorH1(mesh, order=2, dirichlet=\"left\")\n",
    "u, v = V.TnT()\n",
    "\n",
    "def eps(w):   return 0.5*(Grad(w)+Grad(w).trans)\n",
    "def sigma(w): return 2*G*eps(w) + lam*Trace(eps(w))*Id(w.dim)\n",
    "\n",
    "a = BilinearForm(V)\n",
    "a += InnerProduct(sigma(u), eps(v))*dx\n",
    "\n",
    "rho, g = 7850, 9.81\n",
    "f = LinearForm(V)\n",
    "f += CoefficientFunction((0,-rho*g)) * v * dx\n",
    "\n",
    "# Assemble & solve \n",
    "gfu = GridFunction(V)\n",
    "a.Assemble(); f.Assemble()\n",
    "inv = a.mat.Inverse(V.FreeDofs(), inverse=\"sparsecholesky\")\n",
    "gfu.vec.data = inv * f.vec\n",
    "\n",
    "deform = GridFunction(VectorH1(mesh, order=2))\n"
   ]
  },
  {
   "cell_type": "code",
   "execution_count": 3,
   "id": "f4b313c1",
   "metadata": {},
   "outputs": [],
   "source": [
    "def solve_full(mu_i):\n",
    "    del_x, del_y = mu_i\n",
    "    deform.Interpolate((x*y*del_x, x*y*del_y))\n",
    "    mesh.SetDeformation(deform)\n",
    "\n",
    "    V = VectorH1(mesh, order=2, dirichlet=\"left\")\n",
    "    u, v = V.TnT()\n",
    "    a = BilinearForm(V)\n",
    "    a += InnerProduct(sigma(u), eps(v)) * dx\n",
    "    f = LinearForm(V)\n",
    "    f += CoefficientFunction((0, -rho*g)) * v * dx\n",
    "\n",
    "    gfu = GridFunction(V)\n",
    "    a.Assemble(); f.Assemble()\n",
    "    inv = a.mat.Inverse(V.FreeDofs(), inverse=\"sparsecholesky\")\n",
    "    gfu.vec.data = inv * f.vec\n",
    "\n",
    "    mesh.UnsetDeformation()\n",
    "    return np.array(gfu.vec), a.mat, np.array(f.vec)"
   ]
  },
  {
   "cell_type": "code",
   "execution_count": 4,
   "id": "3dcd54b6",
   "metadata": {},
   "outputs": [
    {
     "data": {
      "application/vnd.jupyter.widget-view+json": {
       "model_id": "abc6cce077ba4f00884d0177efd4bb7f",
       "version_major": 2,
       "version_minor": 0
      },
      "text/plain": [
       "Accordion(children=(HTML(value='', layout=Layout(height='16em', width='100%')),), titles=('Log Output',))"
      ]
     },
     "metadata": {},
     "output_type": "display_data"
    },
    {
     "name": "stdout",
     "output_type": "stream",
     "text": [
      "Modes: 36, Snapshots: 64\n"
     ]
    }
   ],
   "source": [
    "# parameter grid\n",
    "DX_MAX, DY_MAX = 0.3, 0.3\n",
    "N = 8\n",
    "dx_vals = np.linspace(-DX_MAX, DX_MAX, N)\n",
    "dy_vals = np.linspace(-DY_MAX, DY_MAX, N)\n",
    "mu = np.array([(dx, dy) for dx in dx_vals for dy in dy_vals])\n",
    "max_modes = 100\n",
    "\n",
    "# collect full-order snapshots and operators\n",
    "snapshots = []\n",
    "As = []\n",
    "fs = []\n",
    "\n",
    "for mup in mu:\n",
    "    u_vec, mat, f_vec = solve_full(mup)\n",
    "    snapshots.append(u_vec)\n",
    "    As.append(mat)\n",
    "    fs.append(f_vec)\n",
    "\n",
    "snapshots = np.array(snapshots)       # shape (nsnaps, ndofs)\n",
    "nsnaps, ndofs = snapshots.shape\n",
    "\n",
    "space = NumpyVectorSpace(ndofs)\n",
    "S = space.make_array(snapshots)       # pyMOR VectorArray\n",
    "\n",
    "RB, svals = pod(S, modes=min(max_modes, nsnaps))\n",
    "\n",
    "Vrb = RB.to_numpy().T\n",
    "r = Vrb.shape[1]\n",
    "\n",
    "print(f\"Modes: {r}, Snapshots: {len(mu)}\")\n",
    "\n",
    "def apply_Acomp(vec_full: np.ndarray, amat):\n",
    "    vin = amat.CreateColVector()\n",
    "    vin.FV().NumPy()[:] = vec_full\n",
    "    vout = amat.CreateColVector()\n",
    "    vout.data = amat * vin    # assign the expression into vout\n",
    "\n",
    "    return vout.FV().NumPy().copy()\n",
    "\n",
    "Ars = []\n",
    "for mat in As:\n",
    "    M = np.column_stack([apply_Acomp(Vrb[:, j], mat) for j in range(r)])\n",
    "    Ar = Vrb.T @ M\n",
    "    Ars.append(Ar)\n",
    "    \n",
    "del As\n",
    "Ars = np.array(Ars)\n",
    "\n",
    "frs = []\n",
    "for f_vec in fs:\n",
    "    fr = Vrb.T @ f_vec     # shape (r,)\n",
    "    frs.append(fr)\n",
    "\n",
    "frs = np.array(frs)        # shape (nsnaps, r)\n"
   ]
  },
  {
   "cell_type": "code",
   "execution_count": 5,
   "id": "17071b8c",
   "metadata": {},
   "outputs": [
    {
     "data": {
      "application/vnd.jupyter.widget-view+json": {
       "model_id": "89742823544244999e0ac9d7ce6fc373",
       "version_major": 2,
       "version_minor": 0
      },
      "text/plain": [
       "WebGuiWidget(layout=Layout(height='500px', width='100%'), value={'gui_settings': {}, 'ngsolve_version': '6.2.2…"
      ]
     },
     "metadata": {},
     "output_type": "display_data"
    },
    {
     "name": "stdout",
     "output_type": "stream",
     "text": [
      "[0.3 0.3]\n"
     ]
    }
   ],
   "source": [
    "def draw_solution(u_rb, mu_test):\n",
    "    \"\"\"Put lifted solution u_rb (numpy) into GridFunction and draw.\"\"\"\n",
    "    del_x, del_y = mu_test\n",
    "    deform.Interpolate((x*y*del_x, x*y*del_y))\n",
    "    mesh.SetDeformation(deform)\n",
    "\n",
    "    gfu_vis = GridFunction(V)\n",
    "    gfu_vis.vec.FV().NumPy()[:] = u_rb\n",
    "    Draw(gfu_vis, mesh, \"u_rb\")\n",
    "    mesh.UnsetDeformation()\n",
    "    return \n",
    "\n",
    "k = -1\n",
    "draw_solution(snapshots[k],mu[k])\n",
    "print(mu[k])"
   ]
  },
  {
   "cell_type": "code",
   "execution_count": 6,
   "id": "23526cb4",
   "metadata": {},
   "outputs": [
    {
     "data": {
      "image/png": "[encoded data removed]",
      "text/plain": [
       "<Figure size 600x400 with 1 Axes>"
      ]
     },
     "metadata": {},
     "output_type": "display_data"
    },
    {
     "name": "stdout",
     "output_type": "stream",
     "text": [
      "Sum of square singular values beyond cutoff (36): 8.048e-07\n",
      "S ratio (tail) 2.6068e-07\n",
      "S ratio (first) (36): 1.0000e+00\n"
     ]
    }
   ],
   "source": [
    "# stack snapshots into a matrix: (nsnaps, N)\n",
    "svals_full = np.linalg.svd(snapshots, compute_uv=False)\n",
    "\n",
    "# indices\n",
    "k = np.arange(1, len(svals_full)+1)\n",
    "\n",
    "plt.figure(figsize=(6,4))\n",
    "plt.semilogy(k[:r], svals_full[:r], 'o-', color='C0', label=f'kept ({r})')\n",
    "plt.semilogy(k[r:], svals_full[r:], 'o-', color='C1', label='discarded')\n",
    "\n",
    "plt.xlabel(\"Mode index\")\n",
    "plt.ylabel(\"Singular value (log scale)\")\n",
    "plt.title(\"Snapshot singular values (full SVD)\")\n",
    "plt.legend()\n",
    "plt.grid(True, which=\"both\", ls=\"--\", alpha=0.5)\n",
    "plt.tight_layout()\n",
    "plt.show()\n",
    "\n",
    "s_squared = svals_full\n",
    "tail_sum_s_vals = s_squared[r:].sum()\n",
    "sum_first_r_s_vals = s_squared[:r].sum()\n",
    "\n",
    "error_ratio_first = sum_first_r_s_vals / s_squared.sum()\n",
    "error_ratio_tail = tail_sum_s_vals / s_squared.sum()\n",
    "print(f\"Sum of square singular values beyond cutoff ({r}): {tail_sum_s_vals:.3e}\")\n",
    "print(f\"S ratio (tail) {error_ratio_tail:.4e}\")\n",
    "print(f\"S ratio (first) ({r}): {error_ratio_first:.4e}\")\n"
   ]
  },
  {
   "cell_type": "code",
   "execution_count": 13,
   "id": "c3a930a1",
   "metadata": {},
   "outputs": [
    {
     "name": "stdout",
     "output_type": "stream",
     "text": [
      "B shape: (64, 25)\n"
     ]
    }
   ],
   "source": [
    "from numpy.polynomial.legendre import Legendre\n",
    "P = 4\n",
    "\n",
    "def legendre_basis(mu, P):\n",
    "    \"\"\"Tensor-product Legendre basis up to degree P\"\"\"\n",
    "    del_x, del_y = mu\n",
    "    Lx = [Legendre.basis(i)(del_x) for i in range(P+1)]   # evaluate P_i(x)\n",
    "    Ly = [Legendre.basis(j)(del_y) for j in range(P+1)]   # evaluate P_j(y)\n",
    "    return [lx * ly for lx in Lx for ly in Ly]\n",
    "\n",
    "# build design matrix\n",
    "B = np.array([legendre_basis(m, P) for m in mu])  # (nsnaps, Q)\n",
    "print(\"B shape:\", B.shape)\n",
    "\n",
    "Q = B.shape[1]\n",
    "\n",
    "BTinvBBT = np.linalg.inv(B.T@B)@B.T\n",
    "\n",
    "Ar_coeffs = np.zeros((r, r, Q))\n",
    "fr_coeffs = np.zeros((r, Q))\n",
    "\n",
    "for i in range(r):\n",
    "    for j in range(r):\n",
    "        Ars_ij = Ars[:,i,j] # Vector of the i,j component of of the Ars matrices.\n",
    "        c_ij = BTinvBBT@Ars_ij # Vector containing the coefficients for the legendre polynomials\n",
    "        Ar_coeffs[i,j,:] = c_ij\n",
    "for i in range(r):\n",
    "    f_ij = frs[:,i]\n",
    "    c_i = BTinvBBT@f_ij\n",
    "    fr_coeffs[i,:] = c_i\n",
    "\n",
    "def assemble_reduced(mu):\n",
    "    theta = legendre_basis(mu,P)\n",
    "    Ar_mu = (Ar_coeffs.reshape(r*r, Q) @ theta).reshape(r, r)\n",
    "    fr_mu = fr_coeffs@theta\n",
    "    return Ar_mu, fr_mu\n",
    "\n",
    "def solve_ROM(mu):\n",
    "    Ar_mu, fr_mu = assemble_reduced(mu)\n",
    "    u_r = np.linalg.solve(Ar_mu,fr_mu)\n",
    "    u_ROM = Vrb @ u_r\n",
    "    return u_ROM"
   ]
  },
  {
   "cell_type": "code",
   "execution_count": null,
   "id": "b3489f12",
   "metadata": {},
   "outputs": [
    {
     "name": "stdout",
     "output_type": "stream",
     "text": [
      "relative L2 error = 6.454237046897457e-05\n"
     ]
    }
   ],
   "source": [
    "def compute_L2_error(u_rb, u_fom, V):\n",
    "    \"\"\"Compute L2 error between reduced solution and FOM solution.\"\"\"\n",
    "    gfu_rb  = GridFunction(V); gfu_rb.vec.FV().NumPy()[:]  = u_rb\n",
    "    gfu_fom = GridFunction(V); gfu_fom.vec.FV().NumPy()[:] = u_fom\n",
    "\n",
    "    diff = gfu_fom - gfu_rb\n",
    "    l2_err = sqrt(Integrate(InnerProduct(diff, diff), mesh))\n",
    "    l2_fom = sqrt(Integrate(InnerProduct(gfu_fom, gfu_fom), mesh))\n",
    "\n",
    "    return l2_err, l2_err / l2_fom\n",
    "\n",
    "mu_test = [0.3,0.3]\n",
    "u_ROM = solve_ROM(mu_test)\n",
    "u_FOM,_,_ = solve_full(mu_test)\n",
    "\n",
    "l2_err, rel_err = compute_L2_error(u_ROM, u_FOM, V)\n",
    "print(f\"relative L2 error = {rel_err}\")"
   ]
  },
  {
   "cell_type": "code",
   "execution_count": null,
   "id": "445554b1",
   "metadata": {},
   "outputs": [
    {
     "name": "stdout",
     "output_type": "stream",
     "text": [
      "ROM total time for 100 solves: 0.024 s\n",
      "FOM total time for 100 solves: 1.678 s\n",
      "Mean relative L2 error over 100 tests: 1.986e-04\n",
      "Max error in 100 tests: 7.553e-04\n"
     ]
    }
   ],
   "source": [
    "import time\n",
    "Ntests = 100\n",
    "mu_rand = np.random.uniform(low=[-DX_MAX, -DY_MAX],\n",
    "                            high=[DX_MAX, DY_MAX],\n",
    "                            size=(Ntests, 2))\n",
    "\n",
    "# storage for solutions\n",
    "u_rb_list = []\n",
    "u_fom_list = []\n",
    "\n",
    "# --- ROM timing and solves ---\n",
    "start_rom = time.time()\n",
    "for mu_test in mu_rand:\n",
    "    u_ROM = solve_ROM(mu_test)\n",
    "    u_rb_list.append(u_ROM)\n",
    "end_rom = time.time()\n",
    "\n",
    "# --- FOM timing and solves ---\n",
    "start_fom = time.time()\n",
    "for mu_test in mu_rand:\n",
    "    u_fom, _, _ = solve_full(mu_test)\n",
    "    u_fom_list.append(u_fom)\n",
    "end_fom = time.time()\n",
    "\n",
    "# --- Error computation ---\n",
    "rel_errors = []\n",
    "for u_rb, u_fom in zip(u_rb_list, u_fom_list):\n",
    "    _, rel_err = compute_L2_error(u_rb, u_fom, V)\n",
    "    rel_errors.append(rel_err)\n",
    "\n",
    "mean_rel_error = np.mean(rel_errors)\n",
    "max_rel_error = np.max(rel_errors)\n",
    "\n",
    "print(f\"ROM total time for {Ntests} solves: {end_rom - start_rom:.3f} s\")\n",
    "print(f\"FOM total time for {Ntests} solves: {end_fom - start_fom:.3f} s\")\n",
    "print(f\"Mean relative L2 error over {Ntests} tests: {mean_rel_error:.3e}\")\n",
    "print(f\"Max relative error in {Ntests} tests: {max_rel_error:.3e}\")\n",
    "\n"
   ]
  }
 ],
 "metadata": {
  "kernelspec": {
   "display_name": ".venv",
   "language": "python",
   "name": "python3"
  },
  "language_info": {
   "codemirror_mode": {
    "name": "ipython",
    "version": 3
   },
   "file_extension": ".py",
   "mimetype": "text/x-python",
   "name": "python",
   "nbconvert_exporter": "python",
   "pygments_lexer": "ipython3",
   "version": "3.12.6"
  }
 },
 "nbformat": 4,
 "nbformat_minor": 5
}
